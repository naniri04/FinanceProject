{
 "cells": [
  {
   "cell_type": "code",
   "execution_count": 1,
   "metadata": {},
   "outputs": [],
   "source": [
    "# Library\n",
    "import pandas as pd\n",
    "import numpy as np\n",
    "import seaborn as sns\n",
    "import yfinance as yf\n",
    "from tqdm import tqdm\n",
    "import time\n",
    "import matplotlib.pyplot as plt\n",
    "\n",
    "import databento as db"
   ]
  },
  {
   "cell_type": "code",
   "execution_count": 4,
   "metadata": {},
   "outputs": [],
   "source": [
    "API_KEY = \"db-aYia3rhpGkXGqdVFbeCsqsxRRbgHM\"\n",
    "PATH = \"e:\\\\Financial_Data\\\\DataBento\\\\XNAS-20241212-K5BUQWA7EN\""
   ]
  },
  {
   "cell_type": "code",
   "execution_count": 3,
   "metadata": {},
   "outputs": [],
   "source": [
    "client = db.Historical(API_KEY)"
   ]
  },
  {
   "cell_type": "code",
   "execution_count": null,
   "metadata": {},
   "outputs": [
    {
     "name": "stdout",
     "output_type": "stream",
     "text": [
      "{'id': 'XNAS-20241212-K5BUQWA7EN', 'user_id': 'MW3PGWGK', 'bill_id': None, 'cost_usd': None, 'dataset': 'XNAS.ITCH', 'symbols': 'ALL_SYMBOLS', 'stype_in': 'raw_symbol', 'stype_out': 'instrument_id', 'schema': 'ohlcv-1d', 'start': '2018-05-01T00:00:00.000000000Z', 'end': '2024-12-11T00:00:00.000000000Z', 'limit': None, 'encoding': 'csv', 'compression': 'zstd', 'pretty_px': False, 'pretty_ts': False, 'map_symbols': False, 'split_symbols': False, 'split_duration': 'month', 'split_size': None, 'packaging': None, 'delivery': 'download', 'record_count': None, 'billed_size': None, 'actual_size': None, 'package_size': None, 'state': 'queued', 'ts_received': '2024-12-12T03:20:27.948685000Z', 'ts_queued': None, 'ts_process_start': None, 'ts_process_done': None, 'ts_expiration': None}\n"
     ]
    }
   ],
   "source": [
    "# details = client.batch.submit_job(\n",
    "#     dataset=\"XNAS.ITCH\",\n",
    "#     symbols=\"ALL_SYMBOLS\",\n",
    "#     schema='ohlcv-1d',\n",
    "#     start=\"2018-05-01T00:00:00\",\n",
    "#     end=\"2024-12-11T00:00:00\",\n",
    "#     split_duration='month',\n",
    "#     encoding='csv'\n",
    "# )\n",
    "\n",
    "# print(details)"
   ]
  },
  {
   "cell_type": "code",
   "execution_count": null,
   "metadata": {},
   "outputs": [
    {
     "data": {
      "text/plain": [
       "[WindowsPath('E:/Financial_Data/DataBento/XNAS-20241212-K5BUQWA7EN/metadata.json'),\n",
       " WindowsPath('E:/Financial_Data/DataBento/XNAS-20241212-K5BUQWA7EN/manifest.json'),\n",
       " WindowsPath('E:/Financial_Data/DataBento/XNAS-20241212-K5BUQWA7EN/condition.json'),\n",
       " WindowsPath('E:/Financial_Data/DataBento/XNAS-20241212-K5BUQWA7EN/xnas-itch-20180901-20180930.ohlcv-1d.csv.zst'),\n",
       " WindowsPath('E:/Financial_Data/DataBento/XNAS-20241212-K5BUQWA7EN/xnas-itch-20190201-20190228.ohlcv-1d.csv.zst'),\n",
       " WindowsPath('E:/Financial_Data/DataBento/XNAS-20241212-K5BUQWA7EN/xnas-itch-20180501-20180531.ohlcv-1d.csv.zst'),\n",
       " WindowsPath('E:/Financial_Data/DataBento/XNAS-20241212-K5BUQWA7EN/xnas-itch-20181201-20181231.ohlcv-1d.csv.zst'),\n",
       " WindowsPath('E:/Financial_Data/DataBento/XNAS-20241212-K5BUQWA7EN/xnas-itch-20181101-20181130.ohlcv-1d.csv.zst'),\n",
       " WindowsPath('E:/Financial_Data/DataBento/XNAS-20241212-K5BUQWA7EN/xnas-itch-20180601-20180630.ohlcv-1d.csv.zst'),\n",
       " WindowsPath('E:/Financial_Data/DataBento/XNAS-20241212-K5BUQWA7EN/xnas-itch-20180701-20180731.ohlcv-1d.csv.zst'),\n",
       " WindowsPath('E:/Financial_Data/DataBento/XNAS-20241212-K5BUQWA7EN/xnas-itch-20190301-20190331.ohlcv-1d.csv.zst'),\n",
       " WindowsPath('E:/Financial_Data/DataBento/XNAS-20241212-K5BUQWA7EN/xnas-itch-20190401-20190430.ohlcv-1d.csv.zst'),\n",
       " WindowsPath('E:/Financial_Data/DataBento/XNAS-20241212-K5BUQWA7EN/xnas-itch-20190101-20190131.ohlcv-1d.csv.zst'),\n",
       " WindowsPath('E:/Financial_Data/DataBento/XNAS-20241212-K5BUQWA7EN/xnas-itch-20181001-20181031.ohlcv-1d.csv.zst'),\n",
       " WindowsPath('E:/Financial_Data/DataBento/XNAS-20241212-K5BUQWA7EN/xnas-itch-20180801-20180831.ohlcv-1d.csv.zst'),\n",
       " WindowsPath('E:/Financial_Data/DataBento/XNAS-20241212-K5BUQWA7EN/xnas-itch-20190601-20190630.ohlcv-1d.csv.zst'),\n",
       " WindowsPath('E:/Financial_Data/DataBento/XNAS-20241212-K5BUQWA7EN/xnas-itch-20190501-20190531.ohlcv-1d.csv.zst'),\n",
       " WindowsPath('E:/Financial_Data/DataBento/XNAS-20241212-K5BUQWA7EN/xnas-itch-20190701-20190731.ohlcv-1d.csv.zst'),\n",
       " WindowsPath('E:/Financial_Data/DataBento/XNAS-20241212-K5BUQWA7EN/xnas-itch-20191101-20191130.ohlcv-1d.csv.zst'),\n",
       " WindowsPath('E:/Financial_Data/DataBento/XNAS-20241212-K5BUQWA7EN/xnas-itch-20190901-20190930.ohlcv-1d.csv.zst'),\n",
       " WindowsPath('E:/Financial_Data/DataBento/XNAS-20241212-K5BUQWA7EN/xnas-itch-20191201-20191231.ohlcv-1d.csv.zst'),\n",
       " WindowsPath('E:/Financial_Data/DataBento/XNAS-20241212-K5BUQWA7EN/xnas-itch-20200201-20200229.ohlcv-1d.csv.zst'),\n",
       " WindowsPath('E:/Financial_Data/DataBento/XNAS-20241212-K5BUQWA7EN/xnas-itch-20200101-20200131.ohlcv-1d.csv.zst'),\n",
       " WindowsPath('E:/Financial_Data/DataBento/XNAS-20241212-K5BUQWA7EN/xnas-itch-20191001-20191031.ohlcv-1d.csv.zst'),\n",
       " WindowsPath('E:/Financial_Data/DataBento/XNAS-20241212-K5BUQWA7EN/xnas-itch-20200401-20200430.ohlcv-1d.csv.zst'),\n",
       " WindowsPath('E:/Financial_Data/DataBento/XNAS-20241212-K5BUQWA7EN/xnas-itch-20190801-20190831.ohlcv-1d.csv.zst'),\n",
       " WindowsPath('E:/Financial_Data/DataBento/XNAS-20241212-K5BUQWA7EN/xnas-itch-20200501-20200531.ohlcv-1d.csv.zst'),\n",
       " WindowsPath('E:/Financial_Data/DataBento/XNAS-20241212-K5BUQWA7EN/xnas-itch-20200301-20200331.ohlcv-1d.csv.zst'),\n",
       " WindowsPath('E:/Financial_Data/DataBento/XNAS-20241212-K5BUQWA7EN/xnas-itch-20200701-20200731.ohlcv-1d.csv.zst'),\n",
       " WindowsPath('E:/Financial_Data/DataBento/XNAS-20241212-K5BUQWA7EN/xnas-itch-20200601-20200630.ohlcv-1d.csv.zst'),\n",
       " WindowsPath('E:/Financial_Data/DataBento/XNAS-20241212-K5BUQWA7EN/xnas-itch-20200801-20200831.ohlcv-1d.csv.zst'),\n",
       " WindowsPath('E:/Financial_Data/DataBento/XNAS-20241212-K5BUQWA7EN/xnas-itch-20200901-20200930.ohlcv-1d.csv.zst'),\n",
       " WindowsPath('E:/Financial_Data/DataBento/XNAS-20241212-K5BUQWA7EN/xnas-itch-20201101-20201130.ohlcv-1d.csv.zst'),\n",
       " WindowsPath('E:/Financial_Data/DataBento/XNAS-20241212-K5BUQWA7EN/xnas-itch-20210201-20210228.ohlcv-1d.csv.zst'),\n",
       " WindowsPath('E:/Financial_Data/DataBento/XNAS-20241212-K5BUQWA7EN/xnas-itch-20201001-20201031.ohlcv-1d.csv.zst'),\n",
       " WindowsPath('E:/Financial_Data/DataBento/XNAS-20241212-K5BUQWA7EN/xnas-itch-20210101-20210131.ohlcv-1d.csv.zst'),\n",
       " WindowsPath('E:/Financial_Data/DataBento/XNAS-20241212-K5BUQWA7EN/xnas-itch-20201201-20201231.ohlcv-1d.csv.zst'),\n",
       " WindowsPath('E:/Financial_Data/DataBento/XNAS-20241212-K5BUQWA7EN/xnas-itch-20210501-20210531.ohlcv-1d.csv.zst'),\n",
       " WindowsPath('E:/Financial_Data/DataBento/XNAS-20241212-K5BUQWA7EN/xnas-itch-20210401-20210430.ohlcv-1d.csv.zst'),\n",
       " WindowsPath('E:/Financial_Data/DataBento/XNAS-20241212-K5BUQWA7EN/xnas-itch-20210701-20210731.ohlcv-1d.csv.zst'),\n",
       " WindowsPath('E:/Financial_Data/DataBento/XNAS-20241212-K5BUQWA7EN/xnas-itch-20210601-20210630.ohlcv-1d.csv.zst'),\n",
       " WindowsPath('E:/Financial_Data/DataBento/XNAS-20241212-K5BUQWA7EN/xnas-itch-20210301-20210331.ohlcv-1d.csv.zst'),\n",
       " WindowsPath('E:/Financial_Data/DataBento/XNAS-20241212-K5BUQWA7EN/xnas-itch-20210901-20210930.ohlcv-1d.csv.zst'),\n",
       " WindowsPath('E:/Financial_Data/DataBento/XNAS-20241212-K5BUQWA7EN/xnas-itch-20210801-20210831.ohlcv-1d.csv.zst'),\n",
       " WindowsPath('E:/Financial_Data/DataBento/XNAS-20241212-K5BUQWA7EN/xnas-itch-20211001-20211031.ohlcv-1d.csv.zst'),\n",
       " WindowsPath('E:/Financial_Data/DataBento/XNAS-20241212-K5BUQWA7EN/xnas-itch-20220201-20220228.ohlcv-1d.csv.zst'),\n",
       " WindowsPath('E:/Financial_Data/DataBento/XNAS-20241212-K5BUQWA7EN/xnas-itch-20211101-20211130.ohlcv-1d.csv.zst'),\n",
       " WindowsPath('E:/Financial_Data/DataBento/XNAS-20241212-K5BUQWA7EN/xnas-itch-20220401-20220430.ohlcv-1d.csv.zst'),\n",
       " WindowsPath('E:/Financial_Data/DataBento/XNAS-20241212-K5BUQWA7EN/xnas-itch-20220101-20220131.ohlcv-1d.csv.zst'),\n",
       " WindowsPath('E:/Financial_Data/DataBento/XNAS-20241212-K5BUQWA7EN/xnas-itch-20211201-20211231.ohlcv-1d.csv.zst'),\n",
       " WindowsPath('E:/Financial_Data/DataBento/XNAS-20241212-K5BUQWA7EN/xnas-itch-20220301-20220331.ohlcv-1d.csv.zst'),\n",
       " WindowsPath('E:/Financial_Data/DataBento/XNAS-20241212-K5BUQWA7EN/xnas-itch-20220701-20220731.ohlcv-1d.csv.zst'),\n",
       " WindowsPath('E:/Financial_Data/DataBento/XNAS-20241212-K5BUQWA7EN/xnas-itch-20220601-20220630.ohlcv-1d.csv.zst'),\n",
       " WindowsPath('E:/Financial_Data/DataBento/XNAS-20241212-K5BUQWA7EN/xnas-itch-20220501-20220531.ohlcv-1d.csv.zst'),\n",
       " WindowsPath('E:/Financial_Data/DataBento/XNAS-20241212-K5BUQWA7EN/xnas-itch-20220901-20220930.ohlcv-1d.csv.zst'),\n",
       " WindowsPath('E:/Financial_Data/DataBento/XNAS-20241212-K5BUQWA7EN/xnas-itch-20220801-20220831.ohlcv-1d.csv.zst'),\n",
       " WindowsPath('E:/Financial_Data/DataBento/XNAS-20241212-K5BUQWA7EN/xnas-itch-20221101-20221130.ohlcv-1d.csv.zst'),\n",
       " WindowsPath('E:/Financial_Data/DataBento/XNAS-20241212-K5BUQWA7EN/xnas-itch-20221001-20221031.ohlcv-1d.csv.zst'),\n",
       " WindowsPath('E:/Financial_Data/DataBento/XNAS-20241212-K5BUQWA7EN/xnas-itch-20221201-20221231.ohlcv-1d.csv.zst'),\n",
       " WindowsPath('E:/Financial_Data/DataBento/XNAS-20241212-K5BUQWA7EN/xnas-itch-20230101-20230131.ohlcv-1d.csv.zst'),\n",
       " WindowsPath('E:/Financial_Data/DataBento/XNAS-20241212-K5BUQWA7EN/xnas-itch-20230201-20230228.ohlcv-1d.csv.zst'),\n",
       " WindowsPath('E:/Financial_Data/DataBento/XNAS-20241212-K5BUQWA7EN/xnas-itch-20230401-20230430.ohlcv-1d.csv.zst'),\n",
       " WindowsPath('E:/Financial_Data/DataBento/XNAS-20241212-K5BUQWA7EN/xnas-itch-20230501-20230531.ohlcv-1d.csv.zst'),\n",
       " WindowsPath('E:/Financial_Data/DataBento/XNAS-20241212-K5BUQWA7EN/xnas-itch-20230701-20230731.ohlcv-1d.csv.zst'),\n",
       " WindowsPath('E:/Financial_Data/DataBento/XNAS-20241212-K5BUQWA7EN/xnas-itch-20230301-20230331.ohlcv-1d.csv.zst'),\n",
       " WindowsPath('E:/Financial_Data/DataBento/XNAS-20241212-K5BUQWA7EN/xnas-itch-20230901-20230930.ohlcv-1d.csv.zst'),\n",
       " WindowsPath('E:/Financial_Data/DataBento/XNAS-20241212-K5BUQWA7EN/xnas-itch-20230601-20230630.ohlcv-1d.csv.zst'),\n",
       " WindowsPath('E:/Financial_Data/DataBento/XNAS-20241212-K5BUQWA7EN/xnas-itch-20231001-20231031.ohlcv-1d.csv.zst'),\n",
       " WindowsPath('E:/Financial_Data/DataBento/XNAS-20241212-K5BUQWA7EN/xnas-itch-20231201-20231231.ohlcv-1d.csv.zst'),\n",
       " WindowsPath('E:/Financial_Data/DataBento/XNAS-20241212-K5BUQWA7EN/xnas-itch-20240201-20240229.ohlcv-1d.csv.zst'),\n",
       " WindowsPath('E:/Financial_Data/DataBento/XNAS-20241212-K5BUQWA7EN/xnas-itch-20231101-20231130.ohlcv-1d.csv.zst'),\n",
       " WindowsPath('E:/Financial_Data/DataBento/XNAS-20241212-K5BUQWA7EN/xnas-itch-20230801-20230831.ohlcv-1d.csv.zst'),\n",
       " WindowsPath('E:/Financial_Data/DataBento/XNAS-20241212-K5BUQWA7EN/xnas-itch-20240101-20240131.ohlcv-1d.csv.zst'),\n",
       " WindowsPath('E:/Financial_Data/DataBento/XNAS-20241212-K5BUQWA7EN/xnas-itch-20241201-20241210.ohlcv-1d.csv.zst'),\n",
       " WindowsPath('E:/Financial_Data/DataBento/XNAS-20241212-K5BUQWA7EN/xnas-itch-20240301-20240331.ohlcv-1d.csv.zst'),\n",
       " WindowsPath('E:/Financial_Data/DataBento/XNAS-20241212-K5BUQWA7EN/xnas-itch-20240401-20240430.ohlcv-1d.csv.zst'),\n",
       " WindowsPath('E:/Financial_Data/DataBento/XNAS-20241212-K5BUQWA7EN/xnas-itch-20240601-20240630.ohlcv-1d.csv.zst'),\n",
       " WindowsPath('E:/Financial_Data/DataBento/XNAS-20241212-K5BUQWA7EN/xnas-itch-20240501-20240531.ohlcv-1d.csv.zst'),\n",
       " WindowsPath('E:/Financial_Data/DataBento/XNAS-20241212-K5BUQWA7EN/xnas-itch-20240901-20240930.ohlcv-1d.csv.zst'),\n",
       " WindowsPath('E:/Financial_Data/DataBento/XNAS-20241212-K5BUQWA7EN/xnas-itch-20240801-20240831.ohlcv-1d.csv.zst'),\n",
       " WindowsPath('E:/Financial_Data/DataBento/XNAS-20241212-K5BUQWA7EN/xnas-itch-20240701-20240731.ohlcv-1d.csv.zst'),\n",
       " WindowsPath('E:/Financial_Data/DataBento/XNAS-20241212-K5BUQWA7EN/xnas-itch-20241101-20241130.ohlcv-1d.csv.zst'),\n",
       " WindowsPath('E:/Financial_Data/DataBento/XNAS-20241212-K5BUQWA7EN/xnas-itch-20241001-20241031.ohlcv-1d.csv.zst'),\n",
       " WindowsPath('E:/Financial_Data/DataBento/XNAS-20241212-K5BUQWA7EN/symbology.csv'),\n",
       " WindowsPath('E:/Financial_Data/DataBento/XNAS-20241212-K5BUQWA7EN/symbology.json')]"
      ]
     },
     "execution_count": 5,
     "metadata": {},
     "output_type": "execute_result"
    }
   ],
   "source": [
    "# client.batch.download(\n",
    "#     job_id=\"XNAS-20241212-K5BUQWA7EN\",\n",
    "#     output_dir=\"E:\\\\Financial_Data\\\\DataBento\",\n",
    "# )"
   ]
  },
  {
   "cell_type": "code",
   "execution_count": 9,
   "metadata": {},
   "outputs": [],
   "source": [
    "result = db.map_symbols_csv(\n",
    "    PATH+\"/symbology.json\",\n",
    "    PATH+\"/xnas-itch-20180501-20180531.ohlcv-1d.csv\",\n",
    "    PATH+\"/test.csv\"\n",
    ")"
   ]
  }
 ],
 "metadata": {
  "kernelspec": {
   "display_name": "tch",
   "language": "python",
   "name": "python3"
  },
  "language_info": {
   "codemirror_mode": {
    "name": "ipython",
    "version": 3
   },
   "file_extension": ".py",
   "mimetype": "text/x-python",
   "name": "python",
   "nbconvert_exporter": "python",
   "pygments_lexer": "ipython3",
   "version": "3.11.5"
  }
 },
 "nbformat": 4,
 "nbformat_minor": 2
}
