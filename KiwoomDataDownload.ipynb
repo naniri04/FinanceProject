{
 "cells": [
  {
   "cell_type": "code",
   "execution_count": 2,
   "id": "1d1818d9",
   "metadata": {},
   "outputs": [],
   "source": [
    "import numpy as np\n",
    "import pandas as pd\n",
    "import matplotlib.pyplot as plt\n",
    "from koapy import KiwoomOpenApiPlusEntrypoint"
   ]
  },
  {
   "cell_type": "code",
   "execution_count": 3,
   "id": "8b7be4bf",
   "metadata": {},
   "outputs": [
    {
     "name": "stderr",
     "output_type": "stream",
     "text": [
      "2024-02-16 00:11:54,719 [DEBUG] Testing if client is ready... - KiwoomOpenApiPlusEntrypoint.py:45\n",
      "2024-02-16 00:12:04,776 [DEBUG] Client is not ready - KiwoomOpenApiPlusEntrypoint.py:47\n",
      "2024-02-16 00:12:04,778 [DEBUG] Creating a new server... - KiwoomOpenApiPlusEntrypoint.py:48\n"
     ]
    }
   ],
   "source": [
    "entrypoint = KiwoomOpenApiPlusEntrypoint()"
   ]
  },
  {
   "cell_type": "code",
   "execution_count": null,
   "id": "ec52253e",
   "metadata": {},
   "outputs": [],
   "source": []
  }
 ],
 "metadata": {
  "kernelspec": {
   "display_name": "Python 3 (ipykernel)",
   "language": "python",
   "name": "python3"
  },
  "language_info": {
   "codemirror_mode": {
    "name": "ipython",
    "version": 3
   },
   "file_extension": ".py",
   "mimetype": "text/x-python",
   "name": "python",
   "nbconvert_exporter": "python",
   "pygments_lexer": "ipython3",
   "version": "3.8.13"
  }
 },
 "nbformat": 4,
 "nbformat_minor": 5
}
