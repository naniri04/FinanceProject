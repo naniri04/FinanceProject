{
 "cells": [
  {
   "cell_type": "code",
   "execution_count": 1,
   "metadata": {},
   "outputs": [],
   "source": [
    "# Library\n",
    "import sub_class as sc\n",
    "from config import *\n",
    "\n",
    "import pandas as pd\n",
    "import numpy as np\n",
    "import seaborn as sns\n",
    "from tqdm import tqdm\n",
    "import time\n",
    "import matplotlib.pyplot as plt\n",
    "from collections import defaultdict\n",
    "from datetime import datetime, timedelta\n",
    "import os\n",
    "import gc\n",
    "import re\n",
    "import h5py\n",
    "import exchange_calendars as xcals\n",
    "import random\n",
    "import importlib\n",
    "import shutil\n",
    "\n",
    "import torch\n",
    "import torch.nn as nn\n",
    "import torch.nn.functional as F\n",
    "from torch.utils.data import IterableDataset, DataLoader\n",
    "from torch.utils.tensorboard import SummaryWriter\n",
    "\n",
    "mi = pd.IndexSlice"
   ]
  },
  {
   "cell_type": "code",
   "execution_count": 2,
   "metadata": {},
   "outputs": [
    {
     "data": {
      "text/plain": [
       "<module 'sub_class' from 'c:\\\\Users\\\\naniri\\\\Documents\\\\GitHub\\\\FinanceProject\\\\sub_class.py'>"
      ]
     },
     "execution_count": 2,
     "metadata": {},
     "output_type": "execute_result"
    }
   ],
   "source": [
    "importlib.reload(sc)"
   ]
  },
  {
   "cell_type": "code",
   "execution_count": 3,
   "metadata": {},
   "outputs": [],
   "source": [
    "def initialize_log_dir(base_log_dir=\"logs/fit\"):\n",
    "    if os.path.exists(base_log_dir):\n",
    "        shutil.rmtree(base_log_dir)  # 기존 로그 디렉토리 삭제\n",
    "    os.makedirs(base_log_dir, exist_ok=True)  # 새 디렉토리 생성\n",
    "    return os.path.join(base_log_dir, datetime.now().strftime(\"%Y%m%d-%H%M%S\"))"
   ]
  },
  {
   "cell_type": "code",
   "execution_count": 4,
   "metadata": {},
   "outputs": [],
   "source": [
    "def rate(target, flag):\n",
    "    return (target-flag) / flag * 100\n",
    "\n",
    "def minmaxscaling(targ:torch.Tensor) -> torch.Tensor:\n",
    "    tensor_min, _ = torch.min(targ, dim=1, keepdim=True)\n",
    "    tensor_max, _ = torch.max(targ, dim=1, keepdim=True)\n",
    "    scaled_tensor = (targ - tensor_min) / (tensor_max - tensor_min)\n",
    "    tensor_cleaned = torch.nan_to_num(scaled_tensor, nan=0.5, posinf=1e8, neginf=-1e8)\n",
    "    return tensor_cleaned"
   ]
  },
  {
   "cell_type": "code",
   "execution_count": 5,
   "metadata": {},
   "outputs": [],
   "source": [
    "class Transforms:\n",
    "    @staticmethod\n",
    "    def example(data, hz_patch:dict[str, int]):\n",
    "        '''\n",
    "        input shape: dict[str, tensor]; each tensor ~ (T, 7)\n",
    "        return shape: dict[str, (abs_tensor, rel_tensor)]; tensor ~ (T-hz_patch[hz]+1, f)\n",
    "        '''\n",
    "        result = dict()\n",
    "        for hz in THZ:\n",
    "            tensor_data = torch.tensor(data[hz].to_numpy(), dtype=torch.float32)  # (T, 7)\n",
    "            unfolded = tensor_data.unfold(dimension=0, size=hz_patch[hz], step=1)  # (T, 7, S)\n",
    "            # (T, p)로 만들어야됨  -> vwap 그 자체 / 평균, 분산, 최대, 최소, 거래량 평균를 넣자. => p = S + 4\n",
    "            pattern = unfolded[:, 5]\n",
    "            scaled_pattern = minmaxscaling(pattern)\n",
    "\n",
    "            pattern_features = list()\n",
    "            pattern_features.append(torch.std(pattern, axis=1, keepdim=True) * 1000 / torch.mean(pattern, axis=1, keepdim=True))\n",
    "            pattern_features = torch.cat(pattern_features, dim=1)\n",
    "            \n",
    "            nonrel_features = torch.cat([scaled_pattern, pattern_features], dim=1)\n",
    "\n",
    "            relative_features = list()\n",
    "            relative_features.append(torch.mean(unfolded[:, 5], axis=1, keepdim=True))\n",
    "            relative_features.append(torch.min(unfolded[:, 2], axis=1, keepdim=True)[0])\n",
    "            relative_features.append(torch.max(unfolded[:, 1], axis=1, keepdim=True)[0])\n",
    "            relative_features = torch.cat(relative_features, dim=1)\n",
    "            \n",
    "            # padding\n",
    "            rel_pad = torch.zeros(size=(hz_patch[hz]-1, relative_features.shape[1]))\n",
    "            relative_features = torch.cat([rel_pad, relative_features], dim=0)\n",
    "            nonrel_pad = torch.zeros(size=(hz_patch[hz]-1, nonrel_features.shape[1]))\n",
    "            nonrel_features = torch.cat([nonrel_pad, nonrel_features], dim=0)\n",
    "            \n",
    "            result[hz] = (nonrel_features, relative_features)\n",
    "        \n",
    "        return result\n",
    "    \n",
    "    @staticmethod\n",
    "    def yexample(data, label_peroid:int):\n",
    "        '''\n",
    "        input shape: tensor ~ (T, 7)\n",
    "        return shape: tensor ~ (T-label_peroid,)\n",
    "        '''\n",
    "        tensor_data = torch.tensor(data.to_numpy(), dtype=torch.float32)  # (T, 7)\n",
    "        unfolded = tensor_data.unfold(dimension=0, size=label_peroid, step=1)  # (T, 7, label_peroid)\n",
    "        flag = tensor_data[:unfolded.shape[0]-1, 3].view(-1, 1, 1)\n",
    "        \n",
    "        rel = torch.divide(unfolded[1:, :4] - flag, flag) * 100  # t에 대한 t+1 ~ t+lp가 y이므로 1번 인덱스부터 사용됨 \n",
    "        # average of mean, min, max\n",
    "        result = torch.div(torch.min(rel[:, 2], dim=1)[0] + torch.max(rel[:, 1], dim=1)[0] + torch.mean(rel[:, 3], dim=1), 3)\n",
    "        \n",
    "        return result\n",
    "    \n",
    "    @staticmethod\n",
    "    def get_ymask(data, label_hz, hz_patch, label_peroid, data_min_interval, label_density):\n",
    "        '''\n",
    "        input shape: tensor ~ (T, 7) for label_hz\n",
    "        output shape: tensor ~ (T, 1)\n",
    "        '''\n",
    "        # 조건1: data_min_interval보다 긴 데이터 필요\n",
    "        # 조건2: label_peroid 구간에 대해 label_hz에 데이터 존재\n",
    "        targ = data['open']\n",
    "        later_index = targ.index + TO_TIMEDELTA[label_hz](label_peroid)\n",
    "        locations = targ.index.asof_locs(later_index, np.ones(len(later_index), dtype=bool))\n",
    "        y_mask = (locations - np.array(range(len(later_index)))) >= label_peroid*label_density\n",
    "        y_mask = y_mask & (targ.index >= targ.index[0] + data_min_interval) \\\n",
    "            & (targ.index <= targ.index[-(hz_patch[label_hz]+label_peroid)])\n",
    "        \n",
    "        return y_mask\n",
    "    \n",
    "    @staticmethod\n",
    "    def get_sample(data, x, y, ymask, label_hz, hz_patch, hz_window):\n",
    "        curidx = {hz:0 for hz in THZ}\n",
    "        for idx, yt in enumerate(data[label_hz].index):\n",
    "            # ymask check\n",
    "            if not ymask[idx]: continue\n",
    "            \n",
    "            # curidx\n",
    "            for hz in THZ:\n",
    "                while True:\n",
    "                    if data[hz].index[curidx[hz]] + TO_TIMEDELTA[hz](1) - timedelta(minutes=1) > yt:\n",
    "                        break\n",
    "                    else: curidx[hz] += 1\n",
    "            if curidx[label_hz] == 0: continue\n",
    "            \n",
    "            # sample\n",
    "            x_sample = [dict(), dict()]\n",
    "            for hz in THZ:\n",
    "                for rel in [0, 1]:\n",
    "                    x_st = curidx[hz] - hz_window[hz]\n",
    "                    if curidx[hz] == 0:\n",
    "                        # no data -> zeros\n",
    "                        x_sample[rel][hz] = torch.zeros((hz_window[hz], x[hz][rel].shape[1]))\n",
    "                        continue\n",
    "                    #\n",
    "                    if x_st < 0:\n",
    "                        # padding\n",
    "                        pad_size = (0, 0, -x_st, 0)\n",
    "                        x_sample[rel][hz] = nn.functional.pad(x[hz][rel][:curidx[hz]], pad_size, 'constant', 0)\n",
    "                    else:\n",
    "                        # slicing\n",
    "                        x_sample[rel][hz] = x[hz][rel][x_st:curidx[hz]]\n",
    "                    #\n",
    "                    if rel:\n",
    "                        # relative features\n",
    "                        flag = data[hz].iat[curidx[hz]-1, 3]\n",
    "                        x_sample[rel][hz] = torch.divide(x_sample[rel][hz] - flag, flag) * 100\n",
    "                        x_sample[rel][hz][x_sample[rel][hz] == -100] = 0\n",
    "\n",
    "            # concat rel & non-rel\n",
    "            temp = dict()\n",
    "            for hz in THZ:\n",
    "                temp[hz] = torch.cat([x_sample[0][hz], x_sample[1][hz]], dim=1)\n",
    "                \n",
    "            x_sample = temp\n",
    "            y_sample = y[curidx[label_hz]-1]\n",
    "            yield (x_sample, y_sample)"
   ]
  },
  {
   "cell_type": "code",
   "execution_count": 6,
   "metadata": {},
   "outputs": [],
   "source": [
    "class StockDatasetIter(IterableDataset):\n",
    "    '''\n",
    "    dataset: 불러온 차트 데이터셋\n",
    "    hz_window: 각 데이터 샘플에서 참고할 lookback window의 기간(int)\n",
    "    hz_patch: dataset에서 데이터포인트를 만들 때, patch를 나누는 기간(int)\n",
    "    label_peroid: label을 만들 때, 데이터를 참고할 기간(int)\n",
    "    data_min_interval: 최소한의 참고할 기간(delta), less than max(hz_window)\n",
    "    label_hz: label을 만들 때의 시간 단위(str)\n",
    "    transform, target_transform: (function)\n",
    "    condition: 기타 조건\n",
    "    '''\n",
    "    def __init__(self, dataset:sc.StockDatasetHDF5, hz_window:dict[str,int], hz_patch:dict[str,int],\n",
    "                 label_peroid:int, data_min_interval:timedelta, label_hz:str, label_density:float,\n",
    "                 transform, target_transform, condition=None):\n",
    "        super().__init__()\n",
    "        #\n",
    "        self.dataset = dataset\n",
    "        self.hz_window = hz_window\n",
    "        self.label_peroid = label_peroid\n",
    "        self.data_min_interval = data_min_interval\n",
    "        self.hz_patch = hz_patch\n",
    "        self.label_hz = label_hz\n",
    "        self.label_density = label_density\n",
    "        self.condition = condition\n",
    "        self.transform = transform\n",
    "        self.target_transform = target_transform\n",
    "        \n",
    "    def __iter__(self):\n",
    "        for data in self.dataset:\n",
    "            x = self.transform(data, self.hz_patch)\n",
    "            y = self.target_transform(data[self.label_hz], self.label_peroid)\n",
    "            ymask = Transforms.get_ymask(data[self.label_hz], self.label_hz, self.hz_patch, self.label_peroid, self.data_min_interval,\n",
    "                                         self.label_density)\n",
    "            gen = Transforms.get_sample(data, x, y, ymask, self.label_hz, self.hz_patch, self.hz_window)\n",
    "            \n",
    "            print(f\"for ticker: {data['ticker']}\")\n",
    "            for result in gen:\n",
    "                yield result\n",
    "                "
   ]
  },
  {
   "cell_type": "code",
   "execution_count": 7,
   "metadata": {},
   "outputs": [],
   "source": [
    "class SampleModel(nn.Module):\n",
    "    def __init__(self, input_size, hidden_size, output_size, num_layers):\n",
    "        super(SampleModel, self).__init__()\n",
    "        self.hidden_size = hidden_size\n",
    "        self.num_layers = num_layers\n",
    "        self.lstm = nn.LSTM(input_size, hidden_size, num_layers, batch_first=True)\n",
    "        self.fc = nn.Linear(hidden_size, output_size)\n",
    "        self.lgl = nn.Sequential(\n",
    "            torch.nn.Linear(hidden_size, hidden_size),\n",
    "            nn.GELU(),\n",
    "            torch.nn.Linear(hidden_size, output_size)\n",
    "        )\n",
    "        self.tanh = nn.Tanh()\n",
    "        self.sig = nn.Sigmoid()\n",
    "\n",
    "    def forward(self, x:torch.Tensor):\n",
    "        # Initialize hidden and cell states\n",
    "        # x = x['5m']\n",
    "        h0 = torch.zeros(self.num_layers, x.size(0), self.hidden_size).to(x.device)\n",
    "        c0 = torch.zeros(self.num_layers, x.size(0), self.hidden_size).to(x.device)\n",
    "        \n",
    "        # Forward propagate LSTM\n",
    "        out, _ = self.lstm(x, (h0, c0))\n",
    "        \n",
    "        # Decode the last time step\n",
    "        res = self.lgl(out[:, -1, :])\n",
    "        res = self.sig(res)\n",
    "        return res"
   ]
  },
  {
   "cell_type": "code",
   "execution_count": 8,
   "metadata": {},
   "outputs": [],
   "source": [
    "class MyLoss(nn.Module):\n",
    "    def __init__(self):\n",
    "        super(MyLoss, self).__init__()\n",
    "        self.CHARGE_RATE = 0.25\n",
    "        \n",
    "    def forward(self, predictions, targets):\n",
    "        charge = predictions * self.CHARGE_RATE\n",
    "        return torch.sum(-predictions * targets) + torch.sum(charge)"
   ]
  },
  {
   "cell_type": "code",
   "execution_count": 72,
   "metadata": {},
   "outputs": [],
   "source": [
    "hdf5_train = sc.StockDatasetHDF5(\n",
    "    ticker_list=[\n",
    "    'AAPL',  # Apple Inc.\n",
    "    'MSFT',  # Microsoft Corporation\n",
    "    'GOOGL', # Alphabet Inc. (Google)\n",
    "    'META',  # Meta Platforms, Inc. (Facebook)\n",
    "    'IBM',   # International Business Machines Corporation\n",
    "    'INTC',  # Intel Corporation\n",
    "    # 'CSCO',  # Cisco Systems, Inc.\n",
    "    # 'ORCL',  # Oracle Corporation\n",
    "    # 'HPQ',   # HP Inc.\n",
    "    # 'DELL',  # Dell Technologies Inc.\n",
    "    # 'QCOM',  # Qualcomm Incorporated\n",
    "    # 'TXN',   # Texas Instruments Incorporated\n",
    "    # 'ADBE',  # Adobe Inc.\n",
    "    # 'NVDA',  # NVIDIA Corporation\n",
    "    # 'CRM',   # Salesforce, Inc.\n",
    "    # 'PYPL'   # PayPal Holdings, Inc.\n",
    "],\n",
    "    date_range=[ST, ED]\n",
    ")\n",
    "hdf5_valid = sc.StockDatasetHDF5(\n",
    "    ticker_list=['AMZN'],\n",
    "    date_range=[ST, ST+timedelta(weeks=4)]\n",
    ")\n",
    "hz_window = {k:v for k, v in zip(THZ,\n",
    "                [100,1,1,1,1])}\n",
    "hz_patch = {k:5 for k in THZ}\n",
    "data_min_interval = timedelta(minutes=100)\n",
    "label_peroid = 10\n",
    "label_hz = '5m'\n",
    "label_density = 1.0\n",
    "batch_size = 64\n",
    "\n",
    "dataset = StockDatasetIter(hdf5_train, hz_window, hz_patch, label_peroid, data_min_interval, label_hz, label_density,\n",
    "                           Transforms.example, Transforms.yexample)\n",
    "val_dataset = StockDatasetIter(hdf5_valid, hz_window, hz_patch, label_peroid, data_min_interval, label_hz, label_density,\n",
    "                           Transforms.example, Transforms.yexample)\n",
    "dataloader = DataLoader(dataset, batch_size=batch_size)\n",
    "val_dataloader = DataLoader(val_dataset, batch_size=batch_size)"
   ]
  },
  {
   "cell_type": "code",
   "execution_count": 75,
   "metadata": {},
   "outputs": [],
   "source": [
    "device = torch.device(\"cuda\" if torch.cuda.is_available() else \"cpu\")\n",
    "input_size = 9  # 9 channels\n",
    "hidden_size = 64\n",
    "output_size = 1\n",
    "num_layers = 2\n",
    "model = SampleModel(input_size, hidden_size, output_size, num_layers).to(device)\n",
    "criterion = MyLoss()\n",
    "optimizer = torch.optim.Adam(model.parameters(), lr=1e-4)"
   ]
  },
  {
   "cell_type": "code",
   "execution_count": 76,
   "metadata": {},
   "outputs": [
    {
     "name": "stdout",
     "output_type": "stream",
     "text": [
      "for ticker: AAPL\n",
      "for ticker: MSFT\n",
      "for ticker: GOOGL\n",
      "for ticker: META\n",
      "for ticker: IBM\n",
      "for ticker: INTC\n",
      "Epoch [1/1], Loss: -3329.9017501\n"
     ]
    },
    {
     "ename": "RuntimeError",
     "evalue": "maximum size for tensor at dimension 0 is 2 but size is 5",
     "output_type": "error",
     "traceback": [
      "\u001b[1;31m---------------------------------------------------------------------------\u001b[0m",
      "\u001b[1;31mRuntimeError\u001b[0m                              Traceback (most recent call last)",
      "Cell \u001b[1;32mIn[76], line 55\u001b[0m\n\u001b[0;32m     53\u001b[0m val_data_size \u001b[38;5;241m=\u001b[39m \u001b[38;5;241m0\u001b[39m\n\u001b[0;32m     54\u001b[0m \u001b[38;5;28;01mwith\u001b[39;00m torch\u001b[38;5;241m.\u001b[39mno_grad():\n\u001b[1;32m---> 55\u001b[0m     \u001b[38;5;28;01mfor\u001b[39;00m val_data, val_labels \u001b[38;5;129;01min\u001b[39;00m val_dataloader:\n\u001b[0;32m     56\u001b[0m         val_labels \u001b[38;5;241m=\u001b[39m val_labels\u001b[38;5;241m.\u001b[39mreshape(\u001b[38;5;241m-\u001b[39m\u001b[38;5;241m1\u001b[39m, \u001b[38;5;241m1\u001b[39m)\u001b[38;5;241m.\u001b[39mto(device)\n\u001b[0;32m     57\u001b[0m         val_data \u001b[38;5;241m=\u001b[39m val_data[\u001b[38;5;124m'\u001b[39m\u001b[38;5;124m1m\u001b[39m\u001b[38;5;124m'\u001b[39m]\u001b[38;5;241m.\u001b[39mto(device)\n",
      "File \u001b[1;32mc:\\Users\\naniri\\anaconda3\\envs\\tch\\Lib\\site-packages\\torch\\utils\\data\\dataloader.py:701\u001b[0m, in \u001b[0;36m_BaseDataLoaderIter.__next__\u001b[1;34m(self)\u001b[0m\n\u001b[0;32m    698\u001b[0m \u001b[38;5;28;01mif\u001b[39;00m \u001b[38;5;28mself\u001b[39m\u001b[38;5;241m.\u001b[39m_sampler_iter \u001b[38;5;129;01mis\u001b[39;00m \u001b[38;5;28;01mNone\u001b[39;00m:\n\u001b[0;32m    699\u001b[0m     \u001b[38;5;66;03m# TODO(https://github.com/pytorch/pytorch/issues/76750)\u001b[39;00m\n\u001b[0;32m    700\u001b[0m     \u001b[38;5;28mself\u001b[39m\u001b[38;5;241m.\u001b[39m_reset()  \u001b[38;5;66;03m# type: ignore[call-arg]\u001b[39;00m\n\u001b[1;32m--> 701\u001b[0m data \u001b[38;5;241m=\u001b[39m \u001b[38;5;28mself\u001b[39m\u001b[38;5;241m.\u001b[39m_next_data()\n\u001b[0;32m    702\u001b[0m \u001b[38;5;28mself\u001b[39m\u001b[38;5;241m.\u001b[39m_num_yielded \u001b[38;5;241m+\u001b[39m\u001b[38;5;241m=\u001b[39m \u001b[38;5;241m1\u001b[39m\n\u001b[0;32m    703\u001b[0m \u001b[38;5;28;01mif\u001b[39;00m (\n\u001b[0;32m    704\u001b[0m     \u001b[38;5;28mself\u001b[39m\u001b[38;5;241m.\u001b[39m_dataset_kind \u001b[38;5;241m==\u001b[39m _DatasetKind\u001b[38;5;241m.\u001b[39mIterable\n\u001b[0;32m    705\u001b[0m     \u001b[38;5;129;01mand\u001b[39;00m \u001b[38;5;28mself\u001b[39m\u001b[38;5;241m.\u001b[39m_IterableDataset_len_called \u001b[38;5;129;01mis\u001b[39;00m \u001b[38;5;129;01mnot\u001b[39;00m \u001b[38;5;28;01mNone\u001b[39;00m\n\u001b[0;32m    706\u001b[0m     \u001b[38;5;129;01mand\u001b[39;00m \u001b[38;5;28mself\u001b[39m\u001b[38;5;241m.\u001b[39m_num_yielded \u001b[38;5;241m>\u001b[39m \u001b[38;5;28mself\u001b[39m\u001b[38;5;241m.\u001b[39m_IterableDataset_len_called\n\u001b[0;32m    707\u001b[0m ):\n",
      "File \u001b[1;32mc:\\Users\\naniri\\anaconda3\\envs\\tch\\Lib\\site-packages\\torch\\utils\\data\\dataloader.py:757\u001b[0m, in \u001b[0;36m_SingleProcessDataLoaderIter._next_data\u001b[1;34m(self)\u001b[0m\n\u001b[0;32m    755\u001b[0m \u001b[38;5;28;01mdef\u001b[39;00m \u001b[38;5;21m_next_data\u001b[39m(\u001b[38;5;28mself\u001b[39m):\n\u001b[0;32m    756\u001b[0m     index \u001b[38;5;241m=\u001b[39m \u001b[38;5;28mself\u001b[39m\u001b[38;5;241m.\u001b[39m_next_index()  \u001b[38;5;66;03m# may raise StopIteration\u001b[39;00m\n\u001b[1;32m--> 757\u001b[0m     data \u001b[38;5;241m=\u001b[39m \u001b[38;5;28mself\u001b[39m\u001b[38;5;241m.\u001b[39m_dataset_fetcher\u001b[38;5;241m.\u001b[39mfetch(index)  \u001b[38;5;66;03m# may raise StopIteration\u001b[39;00m\n\u001b[0;32m    758\u001b[0m     \u001b[38;5;28;01mif\u001b[39;00m \u001b[38;5;28mself\u001b[39m\u001b[38;5;241m.\u001b[39m_pin_memory:\n\u001b[0;32m    759\u001b[0m         data \u001b[38;5;241m=\u001b[39m _utils\u001b[38;5;241m.\u001b[39mpin_memory\u001b[38;5;241m.\u001b[39mpin_memory(data, \u001b[38;5;28mself\u001b[39m\u001b[38;5;241m.\u001b[39m_pin_memory_device)\n",
      "File \u001b[1;32mc:\\Users\\naniri\\anaconda3\\envs\\tch\\Lib\\site-packages\\torch\\utils\\data\\_utils\\fetch.py:33\u001b[0m, in \u001b[0;36m_IterableDatasetFetcher.fetch\u001b[1;34m(self, possibly_batched_index)\u001b[0m\n\u001b[0;32m     31\u001b[0m \u001b[38;5;28;01mfor\u001b[39;00m _ \u001b[38;5;129;01min\u001b[39;00m possibly_batched_index:\n\u001b[0;32m     32\u001b[0m     \u001b[38;5;28;01mtry\u001b[39;00m:\n\u001b[1;32m---> 33\u001b[0m         data\u001b[38;5;241m.\u001b[39mappend(\u001b[38;5;28mnext\u001b[39m(\u001b[38;5;28mself\u001b[39m\u001b[38;5;241m.\u001b[39mdataset_iter))\n\u001b[0;32m     34\u001b[0m     \u001b[38;5;28;01mexcept\u001b[39;00m \u001b[38;5;167;01mStopIteration\u001b[39;00m:\n\u001b[0;32m     35\u001b[0m         \u001b[38;5;28mself\u001b[39m\u001b[38;5;241m.\u001b[39mended \u001b[38;5;241m=\u001b[39m \u001b[38;5;28;01mTrue\u001b[39;00m\n",
      "Cell \u001b[1;32mIn[6], line 30\u001b[0m, in \u001b[0;36mStockDatasetIter.__iter__\u001b[1;34m(self)\u001b[0m\n\u001b[0;32m     28\u001b[0m \u001b[38;5;28;01mdef\u001b[39;00m \u001b[38;5;21m__iter__\u001b[39m(\u001b[38;5;28mself\u001b[39m):\n\u001b[0;32m     29\u001b[0m     \u001b[38;5;28;01mfor\u001b[39;00m data \u001b[38;5;129;01min\u001b[39;00m \u001b[38;5;28mself\u001b[39m\u001b[38;5;241m.\u001b[39mdataset:\n\u001b[1;32m---> 30\u001b[0m         x \u001b[38;5;241m=\u001b[39m \u001b[38;5;28mself\u001b[39m\u001b[38;5;241m.\u001b[39mtransform(data, \u001b[38;5;28mself\u001b[39m\u001b[38;5;241m.\u001b[39mhz_patch)\n\u001b[0;32m     31\u001b[0m         y \u001b[38;5;241m=\u001b[39m \u001b[38;5;28mself\u001b[39m\u001b[38;5;241m.\u001b[39mtarget_transform(data[\u001b[38;5;28mself\u001b[39m\u001b[38;5;241m.\u001b[39mlabel_hz], \u001b[38;5;28mself\u001b[39m\u001b[38;5;241m.\u001b[39mlabel_peroid)\n\u001b[0;32m     32\u001b[0m         ymask \u001b[38;5;241m=\u001b[39m Transforms\u001b[38;5;241m.\u001b[39mget_ymask(data[\u001b[38;5;28mself\u001b[39m\u001b[38;5;241m.\u001b[39mlabel_hz], \u001b[38;5;28mself\u001b[39m\u001b[38;5;241m.\u001b[39mlabel_hz, \u001b[38;5;28mself\u001b[39m\u001b[38;5;241m.\u001b[39mhz_patch, \u001b[38;5;28mself\u001b[39m\u001b[38;5;241m.\u001b[39mlabel_peroid, \u001b[38;5;28mself\u001b[39m\u001b[38;5;241m.\u001b[39mdata_min_interval,\n\u001b[0;32m     33\u001b[0m                                      \u001b[38;5;28mself\u001b[39m\u001b[38;5;241m.\u001b[39mlabel_density)\n",
      "Cell \u001b[1;32mIn[5], line 11\u001b[0m, in \u001b[0;36mTransforms.example\u001b[1;34m(data, hz_patch)\u001b[0m\n\u001b[0;32m      9\u001b[0m \u001b[38;5;28;01mfor\u001b[39;00m hz \u001b[38;5;129;01min\u001b[39;00m THZ:\n\u001b[0;32m     10\u001b[0m     tensor_data \u001b[38;5;241m=\u001b[39m torch\u001b[38;5;241m.\u001b[39mtensor(data[hz]\u001b[38;5;241m.\u001b[39mto_numpy(), dtype\u001b[38;5;241m=\u001b[39mtorch\u001b[38;5;241m.\u001b[39mfloat32)  \u001b[38;5;66;03m# (T, 7)\u001b[39;00m\n\u001b[1;32m---> 11\u001b[0m     unfolded \u001b[38;5;241m=\u001b[39m tensor_data\u001b[38;5;241m.\u001b[39munfold(dimension\u001b[38;5;241m=\u001b[39m\u001b[38;5;241m0\u001b[39m, size\u001b[38;5;241m=\u001b[39mhz_patch[hz], step\u001b[38;5;241m=\u001b[39m\u001b[38;5;241m1\u001b[39m)  \u001b[38;5;66;03m# (T, 7, S)\u001b[39;00m\n\u001b[0;32m     12\u001b[0m     \u001b[38;5;66;03m# (T, p)로 만들어야됨  -> vwap 그 자체 / 평균, 분산, 최대, 최소, 거래량 평균를 넣자. => p = S + 4\u001b[39;00m\n\u001b[0;32m     13\u001b[0m     pattern \u001b[38;5;241m=\u001b[39m unfolded[:, \u001b[38;5;241m5\u001b[39m]\n",
      "\u001b[1;31mRuntimeError\u001b[0m: maximum size for tensor at dimension 0 is 2 but size is 5"
     ]
    }
   ],
   "source": [
    "initial_dir = initialize_log_dir()\n",
    "record_flag = 2048\n",
    "\n",
    "# -------------------------------------\n",
    "\n",
    "epochs = 1\n",
    "\n",
    "# For recording\n",
    "outputs_by_epochs = [[] for _ in range(epochs)]\n",
    "\n",
    "for epoch in range(epochs):\n",
    "    model.train()  # ------------------\n",
    "    \n",
    "    _record_cnt = 0\n",
    "    _epoch_loss = 0.0\n",
    "    writer = SummaryWriter(initial_dir+f'_train_{epoch}')\n",
    "    \n",
    "    _record_results = []\n",
    "    _temp_for_loss = 0\n",
    "    _batch = 0\n",
    "    \n",
    "    for batch_data, batch_labels in dataloader:\n",
    "        batch_labels = batch_labels.reshape(-1, 1).to(device)\n",
    "        batch_data = batch_data['1m'].to(device)\n",
    "        \n",
    "        outputs = model(batch_data)\n",
    "        loss = criterion(outputs, batch_labels)\n",
    "        \n",
    "        _epoch_loss += loss.item()\n",
    "        \n",
    "        _temp_for_loss += loss.item()\n",
    "        if batch_size * _batch >= record_flag:\n",
    "            writer.add_scalar(f\"Loss/train\", _temp_for_loss, _record_cnt)\n",
    "            _record_cnt += 1\n",
    "            _temp_for_loss = 0\n",
    "        _record_results.append((outputs, batch_labels))\n",
    "            \n",
    "        _batch += 1\n",
    "        \n",
    "        # Backward pass\n",
    "        optimizer.zero_grad()\n",
    "        loss.backward()\n",
    "        optimizer.step()\n",
    "    #\n",
    "    print(f\"Epoch [{epoch+1}/{epochs}], Loss: {_epoch_loss:.7f}\")\n",
    "    \n",
    "    model.eval()  # ------------------\n",
    "\n",
    "    _val_record_cnt = 0\n",
    "    _val_epoch_loss = 0.0\n",
    "    val_writer = SummaryWriter(initial_dir+f'_valid_{epoch}')\n",
    "\n",
    "    val_data_size = 0\n",
    "    with torch.no_grad():\n",
    "        for val_data, val_labels in val_dataloader:\n",
    "            val_labels = val_labels.reshape(-1, 1).to(device)\n",
    "            val_data = val_data['1m'].to(device)\n",
    "            \n",
    "            val_outputs = model(val_data)\n",
    "            val_loss = criterion(val_outputs, val_labels)\n",
    "            _val_epoch_loss += criterion(val_outputs, val_labels).item()\n",
    "            val_data_size += len(batch_labels)\n",
    "            \n",
    "            val_writer.add_scalar(f\"Loss/valid\", val_loss, _val_record_cnt)\n",
    "            _val_record_cnt += 1\n",
    "\n",
    "    print(f\"Validation Loss: {_val_epoch_loss:.7f}\")"
   ]
  },
  {
   "cell_type": "code",
   "execution_count": 77,
   "metadata": {},
   "outputs": [],
   "source": [
    "cpu_result = []\n",
    "for r in _record_results:\n",
    "    cpu_result.append((r[0].cpu().detach().numpy().flatten(), r[1].cpu().detach().numpy().flatten()))"
   ]
  },
  {
   "cell_type": "code",
   "execution_count": 78,
   "metadata": {},
   "outputs": [],
   "source": [
    "l = []\n",
    "for i in range(len(cpu_result)):\n",
    "    r = cpu_result[i]\n",
    "    top_indices = np.argsort(r[0])[-10:][::-1]\n",
    "    pr, tr = r[0][top_indices], r[1][top_indices]\n",
    "    l.append(np.sum(pr*tr))"
   ]
  },
  {
   "cell_type": "code",
   "execution_count": 79,
   "metadata": {},
   "outputs": [
    {
     "data": {
      "text/plain": [
       "14015"
      ]
     },
     "execution_count": 79,
     "metadata": {},
     "output_type": "execute_result"
    }
   ],
   "source": [
    "len(l)"
   ]
  },
  {
   "cell_type": "code",
   "execution_count": 81,
   "metadata": {},
   "outputs": [
    {
     "data": {
      "image/png": "[encoded data removed]",
      "text/plain": [
       "<Figure size 640x480 with 1 Axes>"
      ]
     },
     "metadata": {},
     "output_type": "display_data"
    }
   ],
   "source": [
    "ax = sns.lineplot(np.array(l)[:14000].reshape(-1, 50).mean(axis=1))\n",
    "ax.set_ybound(-0.1, 1.5)"
   ]
  },
  {
   "cell_type": "code",
   "execution_count": 64,
   "metadata": {},
   "outputs": [
    {
     "name": "stdout",
     "output_type": "stream",
     "text": [
      "Layer: lstm.weight_ih_l0 | Size: torch.Size([256, 9]) | Params: 2304\n",
      "Layer: lstm.weight_hh_l0 | Size: torch.Size([256, 64]) | Params: 16384\n",
      "Layer: lstm.bias_ih_l0 | Size: torch.Size([256]) | Params: 256\n",
      "Layer: lstm.bias_hh_l0 | Size: torch.Size([256]) | Params: 256\n",
      "Layer: lstm.weight_ih_l1 | Size: torch.Size([256, 64]) | Params: 16384\n",
      "Layer: lstm.weight_hh_l1 | Size: torch.Size([256, 64]) | Params: 16384\n",
      "Layer: lstm.bias_ih_l1 | Size: torch.Size([256]) | Params: 256\n",
      "Layer: lstm.bias_hh_l1 | Size: torch.Size([256]) | Params: 256\n",
      "Layer: fc.weight | Size: torch.Size([1, 64]) | Params: 64\n",
      "Layer: fc.bias | Size: torch.Size([1]) | Params: 1\n",
      "Layer: lgl.0.weight | Size: torch.Size([64, 64]) | Params: 4096\n",
      "Layer: lgl.0.bias | Size: torch.Size([64]) | Params: 64\n",
      "Layer: lgl.2.weight | Size: torch.Size([1, 64]) | Params: 64\n",
      "Layer: lgl.2.bias | Size: torch.Size([1]) | Params: 1\n"
     ]
    }
   ],
   "source": [
    "for name, param in model.named_parameters():\n",
    "    print(f\"Layer: {name} | Size: {param.size()} | Params: {param.numel()}\")"
   ]
  },
  {
   "cell_type": "code",
   "execution_count": null,
   "metadata": {},
   "outputs": [],
   "source": [
    "# nan check\n",
    "i = 0\n",
    "for batch_data, batch_labels in dataloader: \n",
    "    for hz in THZ:\n",
    "        if torch.isnan(batch_data[hz][0]).any() or torch.isinf(batch_data[hz][0]).any():\n",
    "            print(\"NaN or Inf in inputs detected\")\n",
    "            i = 1; break\n",
    "        if torch.isnan(batch_data[hz][1]).any() or torch.isinf(batch_data[hz][1]).any():\n",
    "            print(\"NaN or Inf in labels detected\")\n",
    "            i = 1; break\n",
    "            \n",
    "    if i: break"
   ]
  },
  {
   "cell_type": "markdown",
   "metadata": {},
   "source": [
    "### Test Area"
   ]
  },
  {
   "cell_type": "code",
   "execution_count": 97,
   "metadata": {},
   "outputs": [],
   "source": [
    "dataset = sc.StockDatasetHDF5(\n",
    "    ticker_list=['AAPL', 'MSFT'],\n",
    "    date_range=[ST, ST+timedelta(days=49)]\n",
    ")\n",
    "hz_window = {k:v for k, v in zip(THZ,\n",
    "                [3,4,5,6,7])}\n",
    "hz_patch = {k:5 for k in THZ}\n",
    "data_min_interval = timedelta(days=7)\n",
    "label_peroid = 10\n",
    "label_hz = '30m'\n",
    "label_density = 0"
   ]
  },
  {
   "cell_type": "code",
   "execution_count": 98,
   "metadata": {},
   "outputs": [],
   "source": [
    "data = dataset[0]"
   ]
  },
  {
   "cell_type": "code",
   "execution_count": 99,
   "metadata": {},
   "outputs": [
    {
     "name": "stdout",
     "output_type": "stream",
     "text": [
      "torch.Size([12480, 6])\n",
      "torch.Size([2496, 6])\n",
      "torch.Size([416, 6])\n",
      "torch.Size([33, 6])\n",
      "torch.Size([8, 6])\n",
      "torch.Size([406])\n",
      "(416,)\n"
     ]
    }
   ],
   "source": [
    "x = Transforms.example(data, hz_patch)\n",
    "for k in x.keys():\n",
    "    print(x[k][0].shape)\n",
    "y = Transforms.yexample(data[label_hz], label_peroid)\n",
    "print(y.shape)\n",
    "ym = Transforms.get_ymask(data[label_hz], label_hz, hz_patch, label_peroid, data_min_interval, label_density)\n",
    "print(ym.shape)"
   ]
  },
  {
   "cell_type": "markdown",
   "metadata": {},
   "source": [
    "---"
   ]
  },
  {
   "cell_type": "code",
   "execution_count": 117,
   "metadata": {},
   "outputs": [
    {
     "name": "stderr",
     "output_type": "stream",
     "text": [
      "  0%|          | 0/416 [00:00<?, ?it/s]"
     ]
    },
    {
     "name": "stderr",
     "output_type": "stream",
     "text": [
      " 25%|██▍       | 102/416 [00:00<00:00, 1012.60it/s]"
     ]
    },
    {
     "name": "stdout",
     "output_type": "stream",
     "text": [
      "{'1m': 1951, '5m': 390, '30m': 65, '1d': 5, '1w': 1}\n",
      "2015-01-09 09:31:00\n",
      "2015-01-09 09:30:00\n",
      "2015-01-09 09:30:00\n",
      "2015-01-09 00:00:00\n",
      "2015-01-05 00:00:00\n"
     ]
    },
    {
     "name": "stderr",
     "output_type": "stream",
     "text": [
      "100%|██████████| 416/416 [00:00<00:00, 772.59it/s] \n"
     ]
    }
   ],
   "source": [
    "samples = []\n",
    "curidx = {hz:0 for hz in THZ}\n",
    "for idx, yt in enumerate(tqdm(data[label_hz].index)):\n",
    "    # ymask check\n",
    "    if not ym[idx]: continue\n",
    "    \n",
    "    # curidx\n",
    "    for hz in THZ:\n",
    "        while True:\n",
    "            if data[hz].index[curidx[hz]] + TO_TIMEDELTA[hz](1) - timedelta(minutes=1) > yt:\n",
    "                break\n",
    "            else: curidx[hz] += 1\n",
    "    if curidx[label_hz] == 0: continue\n",
    "    \n",
    "    if not samples: \n",
    "        print(curidx)\n",
    "        for hz in THZ:\n",
    "            print(data[hz].index[curidx[hz]])\n",
    "    \n",
    "    # sample\n",
    "    x_sample = [dict(), dict()]\n",
    "    for hz in THZ:\n",
    "        for rel in [0, 1]:\n",
    "            x_st = curidx[hz] - hz_window[hz]\n",
    "            if curidx[hz] == 0:\n",
    "                # no data -> zeros\n",
    "                x_sample[rel][hz] = torch.zeros((hz_window[hz], x[hz][rel].shape[1]))\n",
    "                continue\n",
    "            #\n",
    "            if x_st < 0:\n",
    "                # padding\n",
    "                pad_size = (0, 0, -x_st, 0)\n",
    "                x_sample[rel][hz] = nn.functional.pad(x[hz][rel][:curidx[hz]], pad_size, 'constant', 0)\n",
    "            else:\n",
    "                # slicing\n",
    "                x_sample[rel][hz] = x[hz][rel][x_st:curidx[hz]]\n",
    "            #\n",
    "            if rel:\n",
    "                # relative features\n",
    "                flag = data[hz].iat[curidx[hz]-1, 3]\n",
    "                x_sample[rel][hz] = torch.divide(x_sample[rel][hz] - flag, flag) * 100\n",
    "                x_sample[rel][hz][x_sample[rel][hz] == -100] = 0\n",
    "\n",
    "    # concat rel & non-rel\n",
    "    temp = dict()\n",
    "    for hz in THZ:\n",
    "        temp[hz] = torch.cat([x_sample[0][hz], x_sample[1][hz]], dim=1)\n",
    "        \n",
    "    x_sample = temp\n",
    "    y_sample = y[curidx[label_hz]-1]\n",
    "    samples.append([x_sample, y_sample, curidx[label_hz]])\n",
    "    "
   ]
  },
  {
   "cell_type": "code",
   "execution_count": 116,
   "metadata": {},
   "outputs": [
    {
     "data": {
      "text/plain": [
       "{'1m': {torch.Size([3, 9])},\n",
       " '5m': {torch.Size([4, 9])},\n",
       " '30m': {torch.Size([5, 9])},\n",
       " '1d': {torch.Size([6, 9])},\n",
       " '1w': {torch.Size([7, 9])}}"
      ]
     },
     "execution_count": 124,
     "metadata": {},
     "output_type": "execute_result"
    }
   ],
   "source": [
    "shape_set = {hz:set() for hz in THZ}\n",
    "for sam in samples:\n",
    "    temp = sam[0]\n",
    "    for hz in THZ:\n",
    "        shape_set[hz].add(temp[hz].shape)\n",
    "    # if temp.shape == torch.Size([4, 9]): print(temp)\n",
    "    \n",
    "shape_set"
   ]
  }
 ],
 "metadata": {
  "kernelspec": {
   "display_name": "tch",
   "language": "python",
   "name": "python3"
  },
  "language_info": {
   "codemirror_mode": {
    "name": "ipython",
    "version": 3
   },
   "file_extension": ".py",
   "mimetype": "text/x-python",
   "name": "python",
   "nbconvert_exporter": "python",
   "pygments_lexer": "ipython3",
   "version": "3.12.7"
  }
 },
 "nbformat": 4,
 "nbformat_minor": 2
}
