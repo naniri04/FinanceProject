{
 "cells": [
  {
   "cell_type": "code",
   "execution_count": 1,
   "metadata": {},
   "outputs": [],
   "source": [
    "# Library\n",
    "import sub_class as sc\n",
    "from config import *\n",
    "\n",
    "import pandas as pd\n",
    "import numpy as np\n",
    "import seaborn as sns\n",
    "from tqdm import tqdm\n",
    "import time\n",
    "import matplotlib.pyplot as plt\n",
    "from collections import defaultdict\n",
    "from datetime import datetime, timedelta\n",
    "import os\n",
    "import gc\n",
    "import re\n",
    "import h5py\n",
    "import exchange_calendars as xcals\n",
    "import random\n",
    "import importlib\n",
    "\n",
    "import torch\n",
    "import torch.nn as nn\n",
    "import torch.nn.functional as F\n",
    "from torch.utils.data import IterableDataset, get_worker_info, DataLoader\n",
    "\n",
    "mi = pd.IndexSlice"
   ]
  },
  {
   "cell_type": "code",
   "execution_count": 2,
   "metadata": {},
   "outputs": [
    {
     "data": {
      "text/plain": [
       "<module 'sub_class' from 'c:\\\\Users\\\\naniri\\\\Documents\\\\GitHub\\\\FinanceProject\\\\sub_class.py'>"
      ]
     },
     "execution_count": 2,
     "metadata": {},
     "output_type": "execute_result"
    }
   ],
   "source": [
    "importlib.reload(sc)"
   ]
  },
  {
   "cell_type": "code",
   "execution_count": 3,
   "metadata": {},
   "outputs": [],
   "source": [
    "def rate(target, flag):\n",
    "    return (target-flag) / flag * 100\n",
    "\n",
    "def minmaxscaling(targ:torch.Tensor) -> torch.Tensor:\n",
    "    tensor_min, _ = torch.min(targ, dim=1, keepdim=True)\n",
    "    tensor_max, _ = torch.max(targ, dim=1, keepdim=True)\n",
    "    scaled_tensor = (targ - tensor_min) / (tensor_max - tensor_min)\n",
    "    return scaled_tensor"
   ]
  },
  {
   "cell_type": "code",
   "execution_count": 127,
   "metadata": {},
   "outputs": [],
   "source": [
    "class Transforms:\n",
    "    @staticmethod\n",
    "    def example(data, hz_patch:dict[str, int]):\n",
    "        '''\n",
    "        input shape: dict[str, tensor]; each tensor ~ (T, 7)\n",
    "        return shape: dict[str, (abs_tensor, rel_tensor)]; tensor ~ (T-hz_patch[hz]+1, f)\n",
    "        '''\n",
    "        result = dict()\n",
    "        for hz in THZ:\n",
    "            tensor_data = torch.tensor(data[hz].to_numpy())  # (T, 7)\n",
    "            unfolded = tensor_data.unfold(dimension=0, size=hz_patch[hz], step=1)  # (T, 7, S)\n",
    "            # (T, p)로 만들어야됨  -> vwap 그 자체 / 평균, 분산, 최대, 최소, 거래량 평균를 넣자. => p = S + 4\n",
    "            pattern = unfolded[:, 5]\n",
    "            scaled_pattern = minmaxscaling(pattern)\n",
    "\n",
    "            pattern_features = list()\n",
    "            pattern_features.append(torch.std(pattern, axis=1, keepdim=True) * 1000 / torch.mean(pattern, axis=1, keepdim=True))\n",
    "            pattern_features = torch.cat(pattern_features, dim=1)\n",
    "            \n",
    "            nonrel_features = torch.cat([scaled_pattern, pattern_features], dim=1)\n",
    "\n",
    "            relative_features = list()\n",
    "            relative_features.append(torch.mean(unfolded[:, 5], axis=1, keepdim=True))\n",
    "            relative_features.append(torch.min(unfolded[:, 2], axis=1, keepdim=True)[0])\n",
    "            relative_features.append(torch.max(unfolded[:, 1], axis=1, keepdim=True)[0])\n",
    "            relative_features = torch.cat(relative_features, dim=1)\n",
    "            \n",
    "            # padding\n",
    "            rel_pad = torch.zeros(size=(hz_patch[hz]-1, relative_features.shape[1]))\n",
    "            relative_features = torch.cat([rel_pad, relative_features], dim=0)\n",
    "            nonrel_pad = torch.zeros(size=(hz_patch[hz]-1, nonrel_features.shape[1]))\n",
    "            nonrel_features = torch.cat([nonrel_pad, nonrel_features], dim=0)\n",
    "            \n",
    "            result[hz] = (nonrel_features, relative_features)\n",
    "        \n",
    "        return result\n",
    "    \n",
    "    @staticmethod\n",
    "    def yexample(data, label_peroid:int):\n",
    "        '''\n",
    "        input shape: tensor ~ (T, 7)\n",
    "        return shape: tensor ~ (T-label_peroid,)\n",
    "        '''\n",
    "        tensor_data = torch.tensor(data.to_numpy())  # (T, 7)\n",
    "        unfolded = tensor_data.unfold(dimension=0, size=label_peroid, step=1)  # (T, 7, label_peroid)\n",
    "        flag = tensor_data[:unfolded.shape[0]-1, 3].view(-1, 1, 1)\n",
    "        \n",
    "        rel = torch.divide(unfolded[1:, :4] - flag, flag) * 100  # t에 대한 t+1 ~ t+lp가 y이므로 1번 인덱스부터 사용됨 \n",
    "        # average of mean, min, max\n",
    "        result = torch.div(torch.min(rel[:, 2], dim=1)[0] + torch.max(rel[:, 1], dim=1)[0] + torch.mean(rel[:, 3], dim=1), 3)\n",
    "        \n",
    "        return result\n",
    "    \n",
    "    @staticmethod\n",
    "    def get_ymask(data, label_hz, hz_patch, label_peroid, data_min_interval, label_density):\n",
    "        '''\n",
    "        input shape: tensor ~ (T, 7) for label_hz\n",
    "        output shape: tensor ~ (T, 1)\n",
    "        '''\n",
    "        # 조건1: data_min_interval보다 긴 데이터 필요\n",
    "        # 조건2: label_peroid 구간에 대해 label_hz에 데이터 존재\n",
    "        targ = data['open']\n",
    "        later_index = targ.index + TO_TIMEDELTA[label_hz](label_peroid)\n",
    "        locations = targ.index.asof_locs(later_index, np.ones(len(later_index), dtype=bool))\n",
    "        y_mask = (locations - np.array(range(len(later_index)))) >= label_peroid*label_density\n",
    "        y_mask = y_mask & (targ.index >= targ.index[0] + data_min_interval) \\\n",
    "            & (targ.index <= targ.index[-(hz_patch[label_hz]+label_peroid)])\n",
    "        \n",
    "        return y_mask\n",
    "    \n",
    "    @staticmethod\n",
    "    def get_sample(data, x, y, ymask, label_hz, hz_patch, hz_window):\n",
    "        curidx = {hz:0 for hz in THZ}\n",
    "        for idx, yt in enumerate(data[label_hz].index):\n",
    "            # ymask check\n",
    "            if not ymask[idx]: continue\n",
    "            \n",
    "            # curidx\n",
    "            for hz in THZ:\n",
    "                while True:\n",
    "                    if data[hz].index[curidx[hz]] + TO_TIMEDELTA[hz](1) - timedelta(minutes=1) > yt:\n",
    "                        break\n",
    "                    else: curidx[hz] += 1\n",
    "            if curidx[label_hz] == 0: continue\n",
    "            \n",
    "            # sample\n",
    "            x_sample = [dict(), dict()]\n",
    "            for hz in THZ:\n",
    "                for rel in [0, 1]:\n",
    "                    x_st = curidx[hz] - hz_window[hz]\n",
    "                    if curidx[hz] == 0:\n",
    "                        # no data -> zeros\n",
    "                        x_sample[rel][hz] = torch.zeros((hz_window[hz], x[hz][rel].shape[1]))\n",
    "                        continue\n",
    "                    #\n",
    "                    if x_st < 0:\n",
    "                        # padding\n",
    "                        pad_size = (0, 0, -x_st, 0)\n",
    "                        x_sample[rel][hz] = nn.functional.pad(x[hz][rel][:curidx[hz]], pad_size, 'constant', 0)\n",
    "                    else:\n",
    "                        # slicing\n",
    "                        x_sample[rel][hz] = x[hz][rel][x_st:curidx[hz]]\n",
    "                    #\n",
    "                    if rel:\n",
    "                        # relative features\n",
    "                        flag = data[hz].iat[curidx[hz]-1, 3]\n",
    "                        x_sample[rel][hz] = torch.divide(x_sample[rel][hz] - flag, flag) * 100\n",
    "                        x_sample[rel][hz][x_sample[rel][hz] == -100] = 0\n",
    "\n",
    "            # concat rel & non-rel\n",
    "            temp = dict()\n",
    "            for hz in THZ:\n",
    "                temp[hz] = torch.cat([x_sample[0][hz], x_sample[1][hz]], dim=1)\n",
    "                \n",
    "            x_sample = temp\n",
    "            y_sample = y[curidx[label_hz]-1]\n",
    "            yield (x_sample, y_sample)"
   ]
  },
  {
   "cell_type": "code",
   "execution_count": 5,
   "metadata": {},
   "outputs": [],
   "source": [
    "class StockDatasetIter(IterableDataset):\n",
    "    '''\n",
    "    dataset: 불러온 차트 데이터셋\n",
    "    hz_window: 각 데이터 샘플에서 참고할 lookback window의 기간(int)\n",
    "    hz_patch: dataset에서 데이터포인트를 만들 때, patch를 나누는 기간(int)\n",
    "    label_peroid: label을 만들 때, 데이터를 참고할 기간(int)\n",
    "    data_min_interval: 최소한의 참고할 기간(delta), less than max(hz_window)\n",
    "    label_hz: label을 만들 때의 시간 단위(str)\n",
    "    transform, target_transform: (function)\n",
    "    condition: 기타 조건\n",
    "    '''\n",
    "    def __init__(self, dataset:sc.StockDatasetHDF5, hz_window:dict[str,int], hz_patch:dict[str,int],\n",
    "                 label_peroid:int, data_min_interval:timedelta, label_hz:str, label_density:float,\n",
    "                 transform, target_transform, condition=None):\n",
    "        super().__init__()\n",
    "        #\n",
    "        self.dataset = dataset\n",
    "        self.hz_window = hz_window\n",
    "        self.label_peroid = label_peroid\n",
    "        self.data_min_interval = data_min_interval\n",
    "        self.hz_patch = hz_patch\n",
    "        self.label_hz = label_hz\n",
    "        self.label_density = label_density\n",
    "        self.condition = condition\n",
    "        self.transform = transform\n",
    "        self.target_transform = target_transform\n",
    "        \n",
    "    def __iter__(self):\n",
    "        for data in self.dataset:\n",
    "            x = self.transform(data, self.hz_patch)\n",
    "            y = self.target_transform(data[self.label_hz], self.label_peroid)\n",
    "            ymask = Transforms.get_ymask(data[self.label_hz], self.label_hz, self.hz_patch, self.label_peroid, self.data_min_interval,\n",
    "                                         self.label_density)\n",
    "            gen = Transforms.get_sample(data, x, y, ymask, self.label_hz, self.hz_patch, self.hz_window)\n",
    "            \n",
    "            for result in gen:\n",
    "                yield result\n",
    "                "
   ]
  },
  {
   "cell_type": "code",
   "execution_count": null,
   "metadata": {},
   "outputs": [],
   "source": [
    "class SampleModel(nn.Module):\n",
    "    def __init__(self, input_size, output_size):\n",
    "        super(SampleModel, self).__init__()\n",
    "        self.linear = nn.Linear(input_size, output_size)\n",
    "\n",
    "    def forward(self, x):\n",
    "        return self.linear(x)"
   ]
  },
  {
   "cell_type": "code",
   "execution_count": null,
   "metadata": {},
   "outputs": [],
   "source": [
    "def custom_loss(predictions, targets):\n",
    "    mse_loss = nn.MSELoss()(predictions, targets)\n",
    "    abs_error = torch.mean(torch.abs(predictions - targets))\n",
    "    return mse_loss + 0.1 * abs_error"
   ]
  },
  {
   "cell_type": "code",
   "execution_count": 83,
   "metadata": {},
   "outputs": [
    {
     "data": {
      "text/plain": [
       "(33, 2)"
      ]
     },
     "execution_count": 83,
     "metadata": {},
     "output_type": "execute_result"
    }
   ],
   "source": [
    "SCHEDULE.loc[:ST+timedelta(49)].shape"
   ]
  },
  {
   "cell_type": "code",
   "execution_count": 128,
   "metadata": {},
   "outputs": [
    {
     "name": "stderr",
     "output_type": "stream",
     "text": [
      "1000it [01:19, 12.58it/s]\n"
     ]
    }
   ],
   "source": [
    "dataset = sc.StockDatasetHDF5(\n",
    "    ticker_list=['AAPL', 'MSFT'],\n",
    "    # date_range=[ST, ST+timedelta(days=49)]\n",
    ")\n",
    "hz_window = {k:v for k, v in zip(THZ,\n",
    "                [3,4,5,6,7])}\n",
    "hz_patch = {k:5 for k in THZ}\n",
    "data_min_interval = timedelta(minutes=100)\n",
    "label_peroid = 10\n",
    "label_hz = '5m'\n",
    "label_density = .5\n",
    "\n",
    "dataset = StockDatasetIter(dataset, hz_window, hz_patch, label_peroid, data_min_interval, label_hz, label_density,\n",
    "                           Transforms.example, Transforms.yexample)\n",
    "dataloader = DataLoader(dataset, batch_size=100)\n",
    "\n",
    "data_num = 0\n",
    "# 데이터 순회\n",
    "for batch in tqdm(dataloader):\n",
    "    # print(batch)\n",
    "    data_num += 1\n",
    "    if data_num > 1000: break"
   ]
  },
  {
   "cell_type": "code",
   "execution_count": null,
   "metadata": {},
   "outputs": [],
   "source": []
  },
  {
   "cell_type": "markdown",
   "metadata": {},
   "source": [
    "### Test Area"
   ]
  },
  {
   "cell_type": "code",
   "execution_count": 97,
   "metadata": {},
   "outputs": [],
   "source": [
    "dataset = sc.StockDatasetHDF5(\n",
    "    ticker_list=['AAPL', 'MSFT'],\n",
    "    date_range=[ST, ST+timedelta(days=49)]\n",
    ")\n",
    "hz_window = {k:v for k, v in zip(THZ,\n",
    "                [3,4,5,6,7])}\n",
    "hz_patch = {k:5 for k in THZ}\n",
    "data_min_interval = timedelta(days=7)\n",
    "label_peroid = 10\n",
    "label_hz = '30m'\n",
    "label_density = 0"
   ]
  },
  {
   "cell_type": "code",
   "execution_count": 98,
   "metadata": {},
   "outputs": [],
   "source": [
    "data = dataset[0]"
   ]
  },
  {
   "cell_type": "code",
   "execution_count": 99,
   "metadata": {},
   "outputs": [
    {
     "name": "stdout",
     "output_type": "stream",
     "text": [
      "torch.Size([12480, 6])\n",
      "torch.Size([2496, 6])\n",
      "torch.Size([416, 6])\n",
      "torch.Size([33, 6])\n",
      "torch.Size([8, 6])\n",
      "torch.Size([406])\n",
      "(416,)\n"
     ]
    }
   ],
   "source": [
    "x = Transforms.example(data, hz_patch)\n",
    "for k in x.keys():\n",
    "    print(x[k][0].shape)\n",
    "y = Transforms.yexample(data[label_hz], label_peroid)\n",
    "print(y.shape)\n",
    "ym = Transforms.get_ymask(data[label_hz], label_hz, hz_patch, label_peroid, data_min_interval, label_density)\n",
    "print(ym.shape)"
   ]
  },
  {
   "cell_type": "markdown",
   "metadata": {},
   "source": [
    "---"
   ]
  },
  {
   "cell_type": "code",
   "execution_count": 117,
   "metadata": {},
   "outputs": [
    {
     "name": "stderr",
     "output_type": "stream",
     "text": [
      "  0%|          | 0/416 [00:00<?, ?it/s]"
     ]
    },
    {
     "name": "stderr",
     "output_type": "stream",
     "text": [
      " 25%|██▍       | 102/416 [00:00<00:00, 1012.60it/s]"
     ]
    },
    {
     "name": "stdout",
     "output_type": "stream",
     "text": [
      "{'1m': 1951, '5m': 390, '30m': 65, '1d': 5, '1w': 1}\n",
      "2015-01-09 09:31:00\n",
      "2015-01-09 09:30:00\n",
      "2015-01-09 09:30:00\n",
      "2015-01-09 00:00:00\n",
      "2015-01-05 00:00:00\n"
     ]
    },
    {
     "name": "stderr",
     "output_type": "stream",
     "text": [
      "100%|██████████| 416/416 [00:00<00:00, 772.59it/s] \n"
     ]
    }
   ],
   "source": [
    "samples = []\n",
    "curidx = {hz:0 for hz in THZ}\n",
    "for idx, yt in enumerate(tqdm(data[label_hz].index)):\n",
    "    # ymask check\n",
    "    if not ym[idx]: continue\n",
    "    \n",
    "    # curidx\n",
    "    for hz in THZ:\n",
    "        while True:\n",
    "            if data[hz].index[curidx[hz]] + TO_TIMEDELTA[hz](1) - timedelta(minutes=1) > yt:\n",
    "                break\n",
    "            else: curidx[hz] += 1\n",
    "    if curidx[label_hz] == 0: continue\n",
    "    \n",
    "    if not samples: \n",
    "        print(curidx)\n",
    "        for hz in THZ:\n",
    "            print(data[hz].index[curidx[hz]])\n",
    "    \n",
    "    # sample\n",
    "    x_sample = [dict(), dict()]\n",
    "    for hz in THZ:\n",
    "        for rel in [0, 1]:\n",
    "            x_st = curidx[hz] - hz_window[hz]\n",
    "            if curidx[hz] == 0:\n",
    "                # no data -> zeros\n",
    "                x_sample[rel][hz] = torch.zeros((hz_window[hz], x[hz][rel].shape[1]))\n",
    "                continue\n",
    "            #\n",
    "            if x_st < 0:\n",
    "                # padding\n",
    "                pad_size = (0, 0, -x_st, 0)\n",
    "                x_sample[rel][hz] = nn.functional.pad(x[hz][rel][:curidx[hz]], pad_size, 'constant', 0)\n",
    "            else:\n",
    "                # slicing\n",
    "                x_sample[rel][hz] = x[hz][rel][x_st:curidx[hz]]\n",
    "            #\n",
    "            if rel:\n",
    "                # relative features\n",
    "                flag = data[hz].iat[curidx[hz]-1, 3]\n",
    "                x_sample[rel][hz] = torch.divide(x_sample[rel][hz] - flag, flag) * 100\n",
    "                x_sample[rel][hz][x_sample[rel][hz] == -100] = 0\n",
    "\n",
    "    # concat rel & non-rel\n",
    "    temp = dict()\n",
    "    for hz in THZ:\n",
    "        temp[hz] = torch.cat([x_sample[0][hz], x_sample[1][hz]], dim=1)\n",
    "        \n",
    "    x_sample = temp\n",
    "    y_sample = y[curidx[label_hz]-1]\n",
    "    samples.append([x_sample, y_sample, curidx[label_hz]])\n",
    "    "
   ]
  },
  {
   "cell_type": "code",
   "execution_count": 116,
   "metadata": {},
   "outputs": [
    {
     "data": {
      "text/plain": [
       "{'1m': {torch.Size([3, 9])},\n",
       " '5m': {torch.Size([4, 9])},\n",
       " '30m': {torch.Size([5, 9])},\n",
       " '1d': {torch.Size([6, 9])},\n",
       " '1w': {torch.Size([7, 9])}}"
      ]
     },
     "execution_count": 124,
     "metadata": {},
     "output_type": "execute_result"
    }
   ],
   "source": [
    "shape_set = {hz:set() for hz in THZ}\n",
    "for sam in samples:\n",
    "    temp = sam[0]\n",
    "    for hz in THZ:\n",
    "        shape_set[hz].add(temp[hz].shape)\n",
    "    # if temp.shape == torch.Size([4, 9]): print(temp)\n",
    "    \n",
    "shape_set"
   ]
  }
 ],
 "metadata": {
  "kernelspec": {
   "display_name": "tch",
   "language": "python",
   "name": "python3"
  },
  "language_info": {
   "codemirror_mode": {
    "name": "ipython",
    "version": 3
   },
   "file_extension": ".py",
   "mimetype": "text/x-python",
   "name": "python",
   "nbconvert_exporter": "python",
   "pygments_lexer": "ipython3",
   "version": "3.12.7"
  }
 },
 "nbformat": 4,
 "nbformat_minor": 2
}
