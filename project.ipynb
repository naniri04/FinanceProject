{
 "cells": [
  {
   "cell_type": "code",
   "execution_count": 5,
   "metadata": {},
   "outputs": [],
   "source": [
    "# Library\n",
    "import sub_class as sc\n",
    "\n",
    "import pandas as pd\n",
    "import numpy as np\n",
    "import seaborn as sns\n",
    "from tqdm import tqdm\n",
    "import time\n",
    "import matplotlib.pyplot as plt\n",
    "from collections import defaultdict\n",
    "from datetime import datetime, timezone, timedelta\n",
    "import os\n",
    "import gc\n",
    "import re\n",
    "import h5py\n",
    "import exchange_calendars as xcals\n",
    "import random\n",
    "import importlib\n",
    "\n",
    "import torch\n",
    "import torch.nn as nn\n",
    "from torch.utils.data import Dataset, get_worker_info, DataLoader\n",
    "\n",
    "mi = pd.IndexSlice\n",
    "ST, ED = datetime(2015,1,1), datetime(2024,12,15)\n",
    "PATH = \"e:/Financial_Data/\"\n",
    "H5PATH = PATH + 'data.h5'\n",
    "SCHEDULE = xcals.get_calendar('XNAS').schedule.loc[ST:ED][['open', 'close']].map(lambda x: x.tz_localize(None) - timedelta(hours=5))\n",
    "THZ = ['1m', '5m', '30m', '1d', '1w']\n",
    "CHART_COL_NAME = ['Adj Close', 'Close', 'High', 'Low', 'Open', 'Volume']"
   ]
  },
  {
   "cell_type": "code",
   "execution_count": 36,
   "metadata": {},
   "outputs": [
    {
     "data": {
      "text/plain": [
       "<module 'sub_class' from 'c:\\\\Users\\\\naniri\\\\Documents\\\\GitHub\\\\FinanceProject\\\\sub_class.py'>"
      ]
     },
     "execution_count": 36,
     "metadata": {},
     "output_type": "execute_result"
    }
   ],
   "source": [
    "importlib.reload(sc)"
   ]
  },
  {
   "cell_type": "code",
   "execution_count": 3,
   "metadata": {},
   "outputs": [],
   "source": [
    "def rate(future, past):\n",
    "  return (future-past) / past * 100"
   ]
  },
  {
   "cell_type": "code",
   "execution_count": null,
   "metadata": {},
   "outputs": [],
   "source": [
    "class SampleModel(nn.Module):\n",
    "    def __init__(self, input_size, output_size):\n",
    "        super(SampleModel, self).__init__()\n",
    "        self.linear = nn.Linear(input_size, output_size)\n",
    "\n",
    "    def forward(self, x):\n",
    "        return self.linear(x)"
   ]
  },
  {
   "cell_type": "code",
   "execution_count": null,
   "metadata": {},
   "outputs": [],
   "source": [
    "def custom_loss(predictions, targets):\n",
    "    mse_loss = nn.MSELoss()(predictions, targets)\n",
    "    abs_error = torch.mean(torch.abs(predictions - targets))\n",
    "    return mse_loss + 0.1 * abs_error"
   ]
  },
  {
   "cell_type": "code",
   "execution_count": 37,
   "metadata": {},
   "outputs": [],
   "source": [
    "dataset = sc.StockDatasetHDF5(\n",
    "    min_peroid=timedelta(weeks=3), min_peroid_label=timedelta(days=10),\n",
    "    ticker_list=['AAPL', 'MSFT']\n",
    ")"
   ]
  },
  {
   "cell_type": "code",
   "execution_count": 38,
   "metadata": {},
   "outputs": [],
   "source": [
    "data = dataset[1]"
   ]
  },
  {
   "cell_type": "code",
   "execution_count": 39,
   "metadata": {},
   "outputs": [
    {
     "data": {
      "text/html": [
       "<div>\n",
       "<style scoped>\n",
       "    .dataframe tbody tr th:only-of-type {\n",
       "        vertical-align: middle;\n",
       "    }\n",
       "\n",
       "    .dataframe tbody tr th {\n",
       "        vertical-align: top;\n",
       "    }\n",
       "\n",
       "    .dataframe thead th {\n",
       "        text-align: right;\n",
       "    }\n",
       "</style>\n",
       "<table border=\"1\" class=\"dataframe\">\n",
       "  <thead>\n",
       "    <tr style=\"text-align: right;\">\n",
       "      <th>ohlcv</th>\n",
       "      <th>open</th>\n",
       "      <th>high</th>\n",
       "      <th>low</th>\n",
       "      <th>close</th>\n",
       "      <th>volume</th>\n",
       "      <th>vwap</th>\n",
       "      <th>transactions</th>\n",
       "    </tr>\n",
       "    <tr>\n",
       "      <th>timestamp</th>\n",
       "      <th></th>\n",
       "      <th></th>\n",
       "      <th></th>\n",
       "      <th></th>\n",
       "      <th></th>\n",
       "      <th></th>\n",
       "      <th></th>\n",
       "    </tr>\n",
       "  </thead>\n",
       "  <tbody>\n",
       "    <tr>\n",
       "      <th>2015-01-23</th>\n",
       "      <td>47.360</td>\n",
       "      <td>47.3900</td>\n",
       "      <td>46.8000</td>\n",
       "      <td>47.18</td>\n",
       "      <td>26211594.0</td>\n",
       "      <td>47.1166</td>\n",
       "      <td>109953.0</td>\n",
       "    </tr>\n",
       "    <tr>\n",
       "      <th>2015-01-26</th>\n",
       "      <td>47.000</td>\n",
       "      <td>47.1339</td>\n",
       "      <td>46.2399</td>\n",
       "      <td>47.01</td>\n",
       "      <td>42525530.0</td>\n",
       "      <td>46.6059</td>\n",
       "      <td>165070.0</td>\n",
       "    </tr>\n",
       "    <tr>\n",
       "      <th>2015-01-27</th>\n",
       "      <td>42.950</td>\n",
       "      <td>43.2000</td>\n",
       "      <td>42.1050</td>\n",
       "      <td>42.66</td>\n",
       "      <td>169162617.0</td>\n",
       "      <td>42.6715</td>\n",
       "      <td>627835.0</td>\n",
       "    </tr>\n",
       "    <tr>\n",
       "      <th>2015-01-28</th>\n",
       "      <td>42.740</td>\n",
       "      <td>42.7900</td>\n",
       "      <td>41.1600</td>\n",
       "      <td>41.19</td>\n",
       "      <td>84507078.0</td>\n",
       "      <td>41.9776</td>\n",
       "      <td>317450.0</td>\n",
       "    </tr>\n",
       "    <tr>\n",
       "      <th>2015-01-29</th>\n",
       "      <td>40.930</td>\n",
       "      <td>42.1200</td>\n",
       "      <td>40.7900</td>\n",
       "      <td>42.01</td>\n",
       "      <td>63580586.0</td>\n",
       "      <td>41.4486</td>\n",
       "      <td>250395.0</td>\n",
       "    </tr>\n",
       "    <tr>\n",
       "      <th>...</th>\n",
       "      <td>...</td>\n",
       "      <td>...</td>\n",
       "      <td>...</td>\n",
       "      <td>...</td>\n",
       "      <td>...</td>\n",
       "      <td>...</td>\n",
       "      <td>...</td>\n",
       "    </tr>\n",
       "    <tr>\n",
       "      <th>2024-11-26</th>\n",
       "      <td>419.585</td>\n",
       "      <td>429.0414</td>\n",
       "      <td>418.8500</td>\n",
       "      <td>427.99</td>\n",
       "      <td>22825574.0</td>\n",
       "      <td>425.8382</td>\n",
       "      <td>347024.0</td>\n",
       "    </tr>\n",
       "    <tr>\n",
       "      <th>2024-11-27</th>\n",
       "      <td>425.105</td>\n",
       "      <td>427.2299</td>\n",
       "      <td>422.0200</td>\n",
       "      <td>422.99</td>\n",
       "      <td>17407455.0</td>\n",
       "      <td>423.9513</td>\n",
       "      <td>260938.0</td>\n",
       "    </tr>\n",
       "    <tr>\n",
       "      <th>2024-11-29</th>\n",
       "      <td>420.090</td>\n",
       "      <td>424.8849</td>\n",
       "      <td>417.8000</td>\n",
       "      <td>423.46</td>\n",
       "      <td>15132529.0</td>\n",
       "      <td>422.3526</td>\n",
       "      <td>210494.0</td>\n",
       "    </tr>\n",
       "    <tr>\n",
       "      <th>2024-12-02</th>\n",
       "      <td>421.570</td>\n",
       "      <td>433.0000</td>\n",
       "      <td>421.3100</td>\n",
       "      <td>430.98</td>\n",
       "      <td>18092788.0</td>\n",
       "      <td>430.0384</td>\n",
       "      <td>334777.0</td>\n",
       "    </tr>\n",
       "    <tr>\n",
       "      <th>2024-12-03</th>\n",
       "      <td>429.840</td>\n",
       "      <td>432.4700</td>\n",
       "      <td>427.7400</td>\n",
       "      <td>431.20</td>\n",
       "      <td>17100500.0</td>\n",
       "      <td>430.6945</td>\n",
       "      <td>268103.0</td>\n",
       "    </tr>\n",
       "  </tbody>\n",
       "</table>\n",
       "<p>2483 rows × 7 columns</p>\n",
       "</div>"
      ],
      "text/plain": [
       "ohlcv          open      high       low   close       volume      vwap  \\\n",
       "timestamp                                                                \n",
       "2015-01-23   47.360   47.3900   46.8000   47.18   26211594.0   47.1166   \n",
       "2015-01-26   47.000   47.1339   46.2399   47.01   42525530.0   46.6059   \n",
       "2015-01-27   42.950   43.2000   42.1050   42.66  169162617.0   42.6715   \n",
       "2015-01-28   42.740   42.7900   41.1600   41.19   84507078.0   41.9776   \n",
       "2015-01-29   40.930   42.1200   40.7900   42.01   63580586.0   41.4486   \n",
       "...             ...       ...       ...     ...          ...       ...   \n",
       "2024-11-26  419.585  429.0414  418.8500  427.99   22825574.0  425.8382   \n",
       "2024-11-27  425.105  427.2299  422.0200  422.99   17407455.0  423.9513   \n",
       "2024-11-29  420.090  424.8849  417.8000  423.46   15132529.0  422.3526   \n",
       "2024-12-02  421.570  433.0000  421.3100  430.98   18092788.0  430.0384   \n",
       "2024-12-03  429.840  432.4700  427.7400  431.20   17100500.0  430.6945   \n",
       "\n",
       "ohlcv       transactions  \n",
       "timestamp                 \n",
       "2015-01-23      109953.0  \n",
       "2015-01-26      165070.0  \n",
       "2015-01-27      627835.0  \n",
       "2015-01-28      317450.0  \n",
       "2015-01-29      250395.0  \n",
       "...                  ...  \n",
       "2024-11-26      347024.0  \n",
       "2024-11-27      260938.0  \n",
       "2024-11-29      210494.0  \n",
       "2024-12-02      334777.0  \n",
       "2024-12-03      268103.0  \n",
       "\n",
       "[2483 rows x 7 columns]"
      ]
     },
     "execution_count": 39,
     "metadata": {},
     "output_type": "execute_result"
    }
   ],
   "source": [
    "data['1d']"
   ]
  },
  {
   "cell_type": "code",
   "execution_count": 40,
   "metadata": {},
   "outputs": [
    {
     "data": {
      "text/plain": [
       "'MSFT'"
      ]
     },
     "execution_count": 40,
     "metadata": {},
     "output_type": "execute_result"
    }
   ],
   "source": [
    "data['ticker']"
   ]
  }
 ],
 "metadata": {
  "kernelspec": {
   "display_name": "tch",
   "language": "python",
   "name": "python3"
  },
  "language_info": {
   "codemirror_mode": {
    "name": "ipython",
    "version": 3
   },
   "file_extension": ".py",
   "mimetype": "text/x-python",
   "name": "python",
   "nbconvert_exporter": "python",
   "pygments_lexer": "ipython3",
   "version": "3.12.7"
  }
 },
 "nbformat": 4,
 "nbformat_minor": 2
}
