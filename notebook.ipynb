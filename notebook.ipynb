{
 "cells": [
  {
   "cell_type": "code",
   "execution_count": 119,
   "metadata": {},
   "outputs": [],
   "source": [
    "import numpy as np\n",
    "import matplotlib.pyplot as plt\n",
    "import seaborn\n",
    "import datetime\n",
    "import pandas as pd\n",
    "from sklearn.neighbors import KNeighborsClassifier\n",
    "from sklearn.ensemble import RandomForestClassifier, VotingClassifier, AdaBoostClassifier\n",
    "from sklearn.svm import SVC\n",
    "from sklearn.model_selection import TimeSeriesSplit, train_test_split\n",
    "from sklearn.metrics import confusion_matrix, accuracy_score, roc_curve, ConfusionMatrixDisplay, RocCurveDisplay"
   ]
  },
  {
   "cell_type": "markdown",
   "metadata": {},
   "source": [
    "### Explanation\n",
    "\n",
    "* 다음 날 등락률이 0보다 크면 1, 아니면 0으로 binary classification\n",
    "* delisted == 0인 것 중 SDate가 2020-01-01보다 작은 주식 대상\n",
    "* 훈련 기간: 2020-01-01 ~ 2022-12-31, 테스트 기간: 2023-01-01 ~ 2023-05-01\n",
    "* 20일 전까지의 등락률 만으로 다음 날 등락률 예측."
   ]
  },
  {
   "cell_type": "code",
   "execution_count": 9,
   "metadata": {},
   "outputs": [
    {
     "name": "stdout",
     "output_type": "stream",
     "text": [
      "<class 'pandas.core.frame.DataFrame'>\n",
      "RangeIndex: 4023 entries, 0 to 4022\n",
      "Data columns (total 6 columns):\n",
      " #   Column    Non-Null Count  Dtype         \n",
      "---  ------    --------------  -----         \n",
      " 0   Code      4023 non-null   object        \n",
      " 1   Name      4023 non-null   object        \n",
      " 2   Delisted  4023 non-null   int64         \n",
      " 3   Kospi     4023 non-null   int64         \n",
      " 4   SDate     4023 non-null   datetime64[ns]\n",
      " 5   EDate     4023 non-null   datetime64[ns]\n",
      "dtypes: datetime64[ns](2), int64(2), object(2)\n",
      "memory usage: 157.2+ KB\n"
     ]
    }
   ],
   "source": [
    "stock_list = pd.read_csv('DB/stock_list.csv', parse_dates=['SDate', 'EDate'])\n",
    "stock_list.info()"
   ]
  },
  {
   "cell_type": "code",
   "execution_count": 13,
   "metadata": {},
   "outputs": [
    {
     "data": {
      "text/html": [
       "<div>\n",
       "<style scoped>\n",
       "    .dataframe tbody tr th:only-of-type {\n",
       "        vertical-align: middle;\n",
       "    }\n",
       "\n",
       "    .dataframe tbody tr th {\n",
       "        vertical-align: top;\n",
       "    }\n",
       "\n",
       "    .dataframe thead th {\n",
       "        text-align: right;\n",
       "    }\n",
       "</style>\n",
       "<table border=\"1\" class=\"dataframe\">\n",
       "  <thead>\n",
       "    <tr style=\"text-align: right;\">\n",
       "      <th></th>\n",
       "      <th>Code</th>\n",
       "      <th>Name</th>\n",
       "      <th>Delisted</th>\n",
       "      <th>Kospi</th>\n",
       "      <th>SDate</th>\n",
       "      <th>EDate</th>\n",
       "    </tr>\n",
       "  </thead>\n",
       "  <tbody>\n",
       "    <tr>\n",
       "      <th>1</th>\n",
       "      <td>000020</td>\n",
       "      <td>동화약품</td>\n",
       "      <td>0</td>\n",
       "      <td>1</td>\n",
       "      <td>2000-01-04</td>\n",
       "      <td>2023-05-02</td>\n",
       "    </tr>\n",
       "    <tr>\n",
       "      <th>4</th>\n",
       "      <td>000040</td>\n",
       "      <td>KR모터스</td>\n",
       "      <td>0</td>\n",
       "      <td>1</td>\n",
       "      <td>2000-01-04</td>\n",
       "      <td>2023-05-02</td>\n",
       "    </tr>\n",
       "    <tr>\n",
       "      <th>5</th>\n",
       "      <td>000050</td>\n",
       "      <td>경방</td>\n",
       "      <td>0</td>\n",
       "      <td>1</td>\n",
       "      <td>2000-01-04</td>\n",
       "      <td>2023-05-02</td>\n",
       "    </tr>\n",
       "    <tr>\n",
       "      <th>7</th>\n",
       "      <td>000070</td>\n",
       "      <td>삼양홀딩스</td>\n",
       "      <td>0</td>\n",
       "      <td>1</td>\n",
       "      <td>2000-01-04</td>\n",
       "      <td>2023-05-02</td>\n",
       "    </tr>\n",
       "    <tr>\n",
       "      <th>8</th>\n",
       "      <td>000075</td>\n",
       "      <td>삼양홀딩스우</td>\n",
       "      <td>0</td>\n",
       "      <td>1</td>\n",
       "      <td>2000-01-04</td>\n",
       "      <td>2023-05-02</td>\n",
       "    </tr>\n",
       "  </tbody>\n",
       "</table>\n",
       "</div>"
      ],
      "text/plain": [
       "     Code    Name  Delisted  Kospi      SDate      EDate\n",
       "1  000020    동화약품         0      1 2000-01-04 2023-05-02\n",
       "4  000040   KR모터스         0      1 2000-01-04 2023-05-02\n",
       "5  000050      경방         0      1 2000-01-04 2023-05-02\n",
       "7  000070   삼양홀딩스         0      1 2000-01-04 2023-05-02\n",
       "8  000075  삼양홀딩스우         0      1 2000-01-04 2023-05-02"
      ]
     },
     "execution_count": 13,
     "metadata": {},
     "output_type": "execute_result"
    }
   ],
   "source": [
    "stock_list = stock_list[stock_list['Delisted'] == 0]\n",
    "stock_list = stock_list[stock_list['SDate'] < datetime.datetime(2020,1,1)]\n",
    "stock_list.head()"
   ]
  },
  {
   "cell_type": "code",
   "execution_count": 143,
   "metadata": {},
   "outputs": [],
   "source": [
    "l = []\n",
    "for i in [np.random.randint(0, 2228) for _ in range(5)]:  # np.random.randint(0, 2228)\n",
    "    ser = stock_list.iloc[i]; x = []; y = []\n",
    "    path = f\"DB/BackTesting/{ser['Code']} {ser['Name']}.csv\"\n",
    "    df = pd.read_csv(path)\n",
    "    cv = TimeSeriesSplit(n_splits=len(df)-21, max_train_size=20, test_size=1)\n",
    "    for train_index, test_index in cv.split(df['Change']):\n",
    "        x.append(df['Change'][train_index].reset_index(drop=True).rename(df['Date'][test_index].values[0]))\n",
    "        y.append(df['Change'][test_index].values[0] > 2)\n",
    "    X = pd.concat(x, axis=1).T\n",
    "    y = np.array(y)\n",
    "    l.append(train_test_split(X, y, test_size=0.05, shuffle=False))\n",
    "    \n",
    "X_train = pd.concat([(lambda x:x[0])(l[i]) for i in range(len(l))])\n",
    "X_test = pd.concat([(lambda x:x[1])(l[i]) for i in range(len(l))])\n",
    "y_train = np.hstack([(lambda x:x[2])(l[i]) for i in range(len(l))])\n",
    "y_test = np.hstack([(lambda x:x[3])(l[i]) for i in range(len(l))])"
   ]
  },
  {
   "cell_type": "code",
   "execution_count": 94,
   "metadata": {},
   "outputs": [],
   "source": [
    "#X_train, X_test, y_train, y_test = train_test_split(X, y, test_size=0.01, shuffle=False)"
   ]
  },
  {
   "cell_type": "code",
   "execution_count": 154,
   "metadata": {},
   "outputs": [
    {
     "data": {
      "text/plain": [
       "<sklearn.metrics._plot.confusion_matrix.ConfusionMatrixDisplay at 0x1d535b68>"
      ]
     },
     "execution_count": 154,
     "metadata": {},
     "output_type": "execute_result"
    },
    {
     "data": {
      "image/png": "[encoded data removed]",
      "text/plain": [
       "<Figure size 432x288 with 1 Axes>"
      ]
     },
     "metadata": {
      "needs_background": "light"
     },
     "output_type": "display_data"
    },
    {
     "data": {
      "image/png": "[encoded data removed]",
      "text/plain": [
       "<Figure size 432x288 with 2 Axes>"
      ]
     },
     "metadata": {
      "needs_background": "light"
     },
     "output_type": "display_data"
    }
   ],
   "source": [
    "model = RandomForestClassifier()  #VotingClassifier([(str(i), SVC(probability=True)) for i in range(10)], voting='soft')\n",
    "model.fit(X_train, y_train)\n",
    "y_pred_proba = model.predict_proba(X_test)\n",
    "RocCurveDisplay.from_estimator(model, X_test, y_test)\n",
    "y_pred_proba = y_pred_proba[:,1]; y_pred = y_pred_proba > 0.5\n",
    "ConfusionMatrixDisplay(confusion_matrix(y_test, y_pred)).plot()"
   ]
  },
  {
   "cell_type": "code",
   "execution_count": 160,
   "metadata": {},
   "outputs": [
    {
     "data": {
      "text/plain": [
       "19765"
      ]
     },
     "execution_count": 160,
     "metadata": {},
     "output_type": "execute_result"
    }
   ],
   "source": [
    "len(y_train)"
   ]
  }
 ],
 "metadata": {
  "kernelspec": {
   "display_name": "base",
   "language": "python",
   "name": "python3"
  },
  "language_info": {
   "codemirror_mode": {
    "name": "ipython",
    "version": 3
   },
   "file_extension": ".py",
   "mimetype": "text/x-python",
   "name": "python",
   "nbconvert_exporter": "python",
   "pygments_lexer": "ipython3",
   "version": "3.9.12"
  }
 },
 "nbformat": 4,
 "nbformat_minor": 2
}
