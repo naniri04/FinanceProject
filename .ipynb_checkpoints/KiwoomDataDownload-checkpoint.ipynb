{
 "cells": [
  {
   "cell_type": "markdown",
   "id": "e434427f",
   "metadata": {},
   "source": [
    "## Log in"
   ]
  },
  {
   "cell_type": "code",
   "execution_count": 19,
   "id": "1d1818d9",
   "metadata": {},
   "outputs": [],
   "source": [
    "import numpy as np\n",
    "import pandas as pd\n",
    "import matplotlib.pyplot as plt\n",
    "from koapy import KiwoomOpenApiPlusEntrypoint\n",
    "from koapy import KiwoomOpenApiPlusTrInfo"
   ]
  },
  {
   "cell_type": "code",
   "execution_count": 2,
   "id": "8b7be4bf",
   "metadata": {},
   "outputs": [
    {
     "name": "stderr",
     "output_type": "stream",
     "text": [
      "2024-02-17 11:00:23,009 [DEBUG] Testing if client is ready... - KiwoomOpenApiPlusEntrypoint.py:45\n",
      "2024-02-17 11:00:33,090 [DEBUG] Client is not ready - KiwoomOpenApiPlusEntrypoint.py:47\n",
      "2024-02-17 11:00:33,093 [DEBUG] Creating a new server... - KiwoomOpenApiPlusEntrypoint.py:48\n"
     ]
    },
    {
     "name": "stdout",
     "output_type": "stream",
     "text": [
      "1\n"
     ]
    }
   ],
   "source": [
    "entrypoint = KiwoomOpenApiPlusEntrypoint()\n",
    "entrypoint.EnsureConnected()\n",
    "print(entrypoint.GetConnectState())"
   ]
  },
  {
   "cell_type": "markdown",
   "id": "32ce77e5",
   "metadata": {},
   "source": [
    "## Code"
   ]
  },
  {
   "cell_type": "code",
   "execution_count": 77,
   "id": "ec52253e",
   "metadata": {},
   "outputs": [],
   "source": [
    "def call_TR(trcode:str, param:list, screenno=None):\n",
    "    output = {'single': {}, 'multi': []}\n",
    "    trinfo = TR_info(trcode)\n",
    "    rqname = trinfo['Name']\n",
    "    inputs = {k:v for k, v in zip(trinfo['Input'], param)}\n",
    "    \n",
    "    print(f'Requesting data for request name: {rqname}')\n",
    "    \n",
    "    for event in entrypoint.TransactionCall(rqname, trcode, screenno, inputs):\n",
    "        print(\"Got request\")\n",
    "        \n",
    "        single_names = event.single_data.names\n",
    "        single_values = event.single_data.values\n",
    "        output['single'] = {k:v for k, v in zip(single_names, single_values)}\n",
    "        \n",
    "        multi_records = [v.values for v in event.multi_data.values]\n",
    "        multi_df_partial = pd.DataFrame.from_records(multi_records, columns=trinfo['Multi'])\n",
    "        output['multi'].append(multi_df_partial)\n",
    "    \n",
    "    output['multi'] = pd.concat(output['multi'], axis=0).reset_index(drop=True)\n",
    "    return output"
   ]
  },
  {
   "cell_type": "code",
   "execution_count": 65,
   "id": "ef2483d3",
   "metadata": {},
   "outputs": [],
   "source": [
    "def TR_info(trcode:str, prt:bool=False):\n",
    "    trinfo = KiwoomOpenApiPlusTrInfo.get_trinfo_by_code(trcode)\n",
    "    output = {}\n",
    "    output[\"Name\"] = trinfo.inputs_name\n",
    "    output[\"Input\"] = list(x.name for x in trinfo.inputs)\n",
    "    output[\"Single\"] = list(x.name for x in trinfo.single_outputs)\n",
    "    output[\"Multi\"] = list(x.name for x in trinfo.multi_outputs)\n",
    "    if prt: print(output)\n",
    "    return output"
   ]
  },
  {
   "cell_type": "code",
   "execution_count": 91,
   "id": "3541d6fe",
   "metadata": {},
   "outputs": [
    {
     "name": "stdout",
     "output_type": "stream",
     "text": [
      "Requesting data for request name: 주식기본정보요청\n",
      "Got request\n"
     ]
    }
   ],
   "source": [
    "tr_example = call_TR('opt10001', ['200710'])"
   ]
  },
  {
   "cell_type": "code",
   "execution_count": 93,
   "id": "d6299377",
   "metadata": {},
   "outputs": [
    {
     "data": {
      "text/plain": [
       "{'single': {'종목코드': '200710',\n",
       "  '종목명': '에이디테크놀로지',\n",
       "  '결산월': '12',\n",
       "  '액면가': '500',\n",
       "  '자본금': '70',\n",
       "  '상장주식': '13427',\n",
       "  '신용비율': '+6.20',\n",
       "  '연중최고': '+33500',\n",
       "  '연중최저': '-25250',\n",
       "  '시가총액': '3968',\n",
       "  '시가총액비중': '',\n",
       "  '외인소진률': '+3.83',\n",
       "  '대용가': '21880',\n",
       "  'PER': '66.45',\n",
       "  'EPS': '445',\n",
       "  'ROE': '3.6',\n",
       "  'PBR': '2.32',\n",
       "  'EV': '42.52',\n",
       "  'BPS': '12752',\n",
       "  '매출액': '1642',\n",
       "  '영업이익': '44',\n",
       "  '당기순이익': '56',\n",
       "  '250최고': '+33650',\n",
       "  '250최저': '-15310',\n",
       "  '시가': '-30350',\n",
       "  '고가': '+31000',\n",
       "  '저가': '-29350',\n",
       "  '상한가': '+39500',\n",
       "  '하한가': '-21300',\n",
       "  '기준가': '30400',\n",
       "  '예상체결가': '-0',\n",
       "  '예상체결수량': '0',\n",
       "  '250최고가일': '20231226',\n",
       "  '250최고가대비율': '-12.18',\n",
       "  '250최저가일': '20230210',\n",
       "  '250최저가대비율': '+93.01',\n",
       "  '현재가': '-29550',\n",
       "  '대비기호': '5',\n",
       "  '전일대비': '-850',\n",
       "  '등락율': '-2.80',\n",
       "  '거래량': '371981',\n",
       "  '거래대비': '+116.51',\n",
       "  '액면가단위': '원',\n",
       "  '유통주식': '10650',\n",
       "  '유통비율': '79.3'},\n",
       " 'multi': Empty DataFrame\n",
       " Columns: []\n",
       " Index: []}"
      ]
     },
     "execution_count": 93,
     "metadata": {},
     "output_type": "execute_result"
    }
   ],
   "source": [
    "tr_example"
   ]
  },
  {
   "cell_type": "code",
   "execution_count": 90,
   "id": "bcec0c1b",
   "metadata": {},
   "outputs": [
    {
     "data": {
      "text/html": [
       "<div>\n",
       "<style scoped>\n",
       "    .dataframe tbody tr th:only-of-type {\n",
       "        vertical-align: middle;\n",
       "    }\n",
       "\n",
       "    .dataframe tbody tr th {\n",
       "        vertical-align: top;\n",
       "    }\n",
       "\n",
       "    .dataframe thead th {\n",
       "        text-align: right;\n",
       "    }\n",
       "</style>\n",
       "<table border=\"1\" class=\"dataframe\">\n",
       "  <thead>\n",
       "    <tr style=\"text-align: right;\">\n",
       "      <th></th>\n",
       "      <th>종목코드</th>\n",
       "      <th>현재가</th>\n",
       "      <th>거래량</th>\n",
       "      <th>거래대금</th>\n",
       "      <th>일자</th>\n",
       "      <th>시가</th>\n",
       "      <th>고가</th>\n",
       "      <th>저가</th>\n",
       "      <th>수정주가구분</th>\n",
       "      <th>수정비율</th>\n",
       "      <th>대업종구분</th>\n",
       "      <th>소업종구분</th>\n",
       "      <th>종목정보</th>\n",
       "      <th>수정주가이벤트</th>\n",
       "      <th>전일종가</th>\n",
       "    </tr>\n",
       "  </thead>\n",
       "  <tbody>\n",
       "    <tr>\n",
       "      <th>1000</th>\n",
       "      <td></td>\n",
       "      <td>26874</td>\n",
       "      <td>1300809</td>\n",
       "      <td>35643</td>\n",
       "      <td>20200130</td>\n",
       "      <td>27929</td>\n",
       "      <td>28800</td>\n",
       "      <td>26094</td>\n",
       "      <td></td>\n",
       "      <td></td>\n",
       "      <td></td>\n",
       "      <td></td>\n",
       "      <td></td>\n",
       "      <td></td>\n",
       "      <td></td>\n",
       "    </tr>\n",
       "    <tr>\n",
       "      <th>1001</th>\n",
       "      <td></td>\n",
       "      <td>28617</td>\n",
       "      <td>683119</td>\n",
       "      <td>19805</td>\n",
       "      <td>20200129</td>\n",
       "      <td>29947</td>\n",
       "      <td>30268</td>\n",
       "      <td>28525</td>\n",
       "      <td></td>\n",
       "      <td></td>\n",
       "      <td></td>\n",
       "      <td></td>\n",
       "      <td></td>\n",
       "      <td></td>\n",
       "      <td></td>\n",
       "    </tr>\n",
       "    <tr>\n",
       "      <th>1002</th>\n",
       "      <td></td>\n",
       "      <td>29442</td>\n",
       "      <td>974791</td>\n",
       "      <td>27431</td>\n",
       "      <td>20200128</td>\n",
       "      <td>26782</td>\n",
       "      <td>29717</td>\n",
       "      <td>26691</td>\n",
       "      <td></td>\n",
       "      <td></td>\n",
       "      <td></td>\n",
       "      <td></td>\n",
       "      <td></td>\n",
       "      <td></td>\n",
       "      <td></td>\n",
       "    </tr>\n",
       "    <tr>\n",
       "      <th>1003</th>\n",
       "      <td></td>\n",
       "      <td>28617</td>\n",
       "      <td>603228</td>\n",
       "      <td>17136</td>\n",
       "      <td>20200123</td>\n",
       "      <td>28020</td>\n",
       "      <td>29213</td>\n",
       "      <td>27699</td>\n",
       "      <td></td>\n",
       "      <td></td>\n",
       "      <td></td>\n",
       "      <td></td>\n",
       "      <td></td>\n",
       "      <td></td>\n",
       "      <td></td>\n",
       "    </tr>\n",
       "    <tr>\n",
       "      <th>1004</th>\n",
       "      <td></td>\n",
       "      <td>28433</td>\n",
       "      <td>1251508</td>\n",
       "      <td>33670</td>\n",
       "      <td>20200122</td>\n",
       "      <td>26003</td>\n",
       "      <td>28433</td>\n",
       "      <td>24994</td>\n",
       "      <td></td>\n",
       "      <td></td>\n",
       "      <td></td>\n",
       "      <td></td>\n",
       "      <td></td>\n",
       "      <td></td>\n",
       "      <td></td>\n",
       "    </tr>\n",
       "  </tbody>\n",
       "</table>\n",
       "</div>"
      ],
      "text/plain": [
       "     종목코드    현재가      거래량   거래대금        일자     시가     고가     저가 수정주가구분 수정비율  \\\n",
       "1000       26874  1300809  35643  20200130  27929  28800  26094               \n",
       "1001       28617   683119  19805  20200129  29947  30268  28525               \n",
       "1002       29442   974791  27431  20200128  26782  29717  26691               \n",
       "1003       28617   603228  17136  20200123  28020  29213  27699               \n",
       "1004       28433  1251508  33670  20200122  26003  28433  24994               \n",
       "\n",
       "     대업종구분 소업종구분 종목정보 수정주가이벤트 전일종가  \n",
       "1000                                \n",
       "1001                                \n",
       "1002                                \n",
       "1003                                \n",
       "1004                                "
      ]
     },
     "execution_count": 90,
     "metadata": {},
     "output_type": "execute_result"
    }
   ],
   "source": [
    "df.iloc[1000:1005]"
   ]
  }
 ],
 "metadata": {
  "kernelspec": {
   "display_name": "yayy",
   "language": "python",
   "name": "x86"
  },
  "language_info": {
   "codemirror_mode": {
    "name": "ipython",
    "version": 3
   },
   "file_extension": ".py",
   "mimetype": "text/x-python",
   "name": "python",
   "nbconvert_exporter": "python",
   "pygments_lexer": "ipython3",
   "version": "3.8.13"
  }
 },
 "nbformat": 4,
 "nbformat_minor": 5
}
