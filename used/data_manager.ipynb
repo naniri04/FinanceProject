{
 "cells": [
  {
   "cell_type": "code",
   "execution_count": 1,
   "metadata": {},
   "outputs": [],
   "source": [
    "# Library\n",
    "import pandas as pd\n",
    "import numpy as np\n",
    "import seaborn as sns\n",
    "from tqdm import tqdm\n",
    "import time\n",
    "import matplotlib.pyplot as plt\n",
    "from collections import defaultdict\n",
    "from datetime import datetime, timezone, timedelta\n",
    "import os\n",
    "import gc\n",
    "import re\n",
    "import h5py\n",
    "import exchange_calendars as xcals\n",
    "import random\n",
    "\n",
    "import torch\n",
    "from torch.utils.data import Dataset, get_worker_info\n",
    "\n",
    "ST, ED = datetime(2015,1,1), datetime(2024,12,15)\n",
    "PATH = \"e:/Financial_Data/\"\n",
    "H5PATH = PATH + 'data.h5'\n",
    "SCHEDULE = xcals.get_calendar('XNAS').schedule.loc[ST:ED][['open', 'close']].map(lambda x: x.tz_localize(None) - timedelta(hours=5))\n",
    "THZ = ['1m', '5m', '30m', '1d', '1w']"
   ]
  },
  {
   "cell_type": "code",
   "execution_count": 6,
   "metadata": {},
   "outputs": [
    {
     "data": {
      "text/plain": [
       "array([datetime.time(16, 0), datetime.time(15, 0), datetime.time(13, 0),\n",
       "       datetime.time(12, 0)], dtype=object)"
      ]
     },
     "execution_count": 6,
     "metadata": {},
     "output_type": "execute_result"
    }
   ],
   "source": [
    "SCHEDULE['close'].apply(lambda x: x.time()).unique()"
   ]
  },
  {
   "cell_type": "code",
   "execution_count": null,
   "metadata": {},
   "outputs": [],
   "source": [
    "# pd.read_hdf(H5PATH, key=f'chart/delisted_1m/')\n",
    "# with pd.HDFStore(H5PATH, mode='r') as store:\n",
    "# with h5py.File(H5PATH, 'r') as store:"
   ]
  },
  {
   "cell_type": "code",
   "execution_count": 2,
   "metadata": {},
   "outputs": [],
   "source": [
    "with h5py.File(H5PATH, 'r') as store:\n",
    "    l = [list(store['chart/delisted_1m/'].keys()), list(store['chart/inlisted_1m/'].keys())]"
   ]
  },
  {
   "cell_type": "code",
   "execution_count": null,
   "metadata": {},
   "outputs": [],
   "source": [
    "class StockDatasetHDF5(Dataset):\n",
    "    def __init__(self, min_peroid:timedelta, min_peroid_label:timedelta,\n",
    "        ticker_list=None, date_range=None,\n",
    "        transform=None, target_transform=None\n",
    "    ):\n",
    "        with h5py.File(H5PATH, 'r') as store:\n",
    "            self._tickers = [list(store['chart/inlisted_1m/'].keys()), list(store['chart/delisted_1m/'].keys())]\n",
    "        self._h5ins = pd.HDFStore(H5PATH, mode='r')\n",
    "        \n",
    "        self.ticker_list = ticker_list if ticker_list else self._tickers\n",
    "        self.date_range = date_range if date_range else [ST, ED]\n",
    "        self.min_peroid = min_peroid\n",
    "        self.min_peroid_label = min_peroid_label\n",
    "\n",
    "    def __getitem__(self, index):\n",
    "        # wkinfo = get_worker_info()\n",
    "        # 일단 worker=0 가정하고 ㄱㄱ\n",
    "        dfs = dict()\n",
    "        if (isinlisted := (index >= len(self.ticker_list))): index -= len(self.ticker_list)\n",
    "        for hz in THZ:\n",
    "            dfs[hz] = self._h5ins.get(f'chart/{'in' if isinlisted else 'de'}listed_{hz}/{self.ticker_list[isinlisted][index]}')\n",
    "        st, ed = dfs['1m'].index[0] + self.min_peroid, dfs['1m'].index[-1] - self.min_peroid_label\n",
    "        if st < self.date_range[0]: st = self.date_range[0]\n",
    "        if ed > self.date_range[1]: ed = self.date_range[1]\n",
    "        for hz in THZ[:3]:\n",
    "            dfs[hz] = dfs[hz].loc[st:ed]\n",
    "        st = st.replace(hour=0, minute=0, second=0)\n",
    "        dfs['1d'] = dfs[hz].loc[st:ed]\n",
    "        st = st - timedelta(days=st.isoweekday() - 1)\n",
    "        dfs['1W'] = dfs[hz].loc[st:ed]\n",
    "        \n",
    "        return dfs\n",
    "    \n",
    "    def close(self):\n",
    "        self._h5ins.close()"
   ]
  },
  {
   "cell_type": "markdown",
   "metadata": {},
   "source": [
    "#### 이전 코드들"
   ]
  },
  {
   "cell_type": "code",
   "execution_count": 2,
   "metadata": {},
   "outputs": [],
   "source": [
    "f = h5py.File(H5PATH, 'r')\n",
    "tickers = list(f['chart/delisted_1d/'].keys())\n",
    "f.close()"
   ]
  },
  {
   "cell_type": "code",
   "execution_count": 2,
   "metadata": {},
   "outputs": [],
   "source": [
    "sample_index = []\n",
    "for r in SCHEDULE.iterrows():\n",
    "    start_time, end_time = r[1]['open'], r[1]['close']\n",
    "    sample_index += [start_time + timedelta(minutes=i) for i in range(int((end_time - start_time).total_seconds() / 60))]\n",
    "temp = pd.Index(sample_index, name='timestamp')"
   ]
  },
  {
   "cell_type": "code",
   "execution_count": 7,
   "metadata": {},
   "outputs": [
    {
     "name": "stderr",
     "output_type": "stream",
     "text": [
      "100%|██████████| 7852/7852 [1:31:54<00:00,  1.42it/s]  \n"
     ]
    }
   ],
   "source": [
    "# pre, after market 빼기\n",
    "for ticker in tqdm(tickers):\n",
    "    df = pd.read_hdf(H5PATH, key=f'chart/delisted_1m/{ticker}')\n",
    "    df.index = pd.to_datetime(df.index - 3600*5, unit=\"s\")\n",
    "    filtered_df = df.loc[df.index.intersection(temp)]\n",
    "    \n",
    "    with pd.HDFStore(H5PATH, mode='a', complevel=5, complib='zlib') as store:\n",
    "        store.put(f\"chart/delisted_1m/{ticker}\", filtered_df, format='table')\n",
    "        "
   ]
  },
  {
   "cell_type": "code",
   "execution_count": 67,
   "metadata": {},
   "outputs": [
    {
     "name": "stderr",
     "output_type": "stream",
     "text": [
      "100%|██████████| 8920/8920 [1:42:05<00:00,  1.46it/s]  \n"
     ]
    }
   ],
   "source": [
    "# 5분, 30분 agg\n",
    "for ticker in tqdm(tickers):\n",
    "    df = pd.read_hdf(H5PATH, key=f'chart/inlisted_1m/{ticker}')\n",
    "    l = {}; unit_list = [5, 30]\n",
    "    for unit in unit_list:\n",
    "        l[unit] = df.resample(f\"{unit}min\").agg({\n",
    "            \"open\": \"first\",\n",
    "            \"high\": \"max\",\n",
    "            \"low\": \"min\",\n",
    "            \"close\": \"last\",\n",
    "            'volume': 'sum',\n",
    "            'vwap': 'mean',\n",
    "            'transactions': 'sum',\n",
    "        }).dropna(axis=0)\n",
    "    \n",
    "    with pd.HDFStore(H5PATH, mode='a', complevel=5, complib='zlib') as store:\n",
    "        for unit in unit_list:\n",
    "            store.put(f\"chart/inlisted_{unit}m/{ticker}\", l[unit], format='table')"
   ]
  },
  {
   "cell_type": "code",
   "execution_count": 4,
   "metadata": {},
   "outputs": [
    {
     "name": "stderr",
     "output_type": "stream",
     "text": [
      "100%|██████████| 7854/7854 [37:12<00:00,  3.52it/s]\n"
     ]
    }
   ],
   "source": [
    "# week agg, datetime 인덱스로 변경\n",
    "for ticker in tqdm(tickers):\n",
    "    df = pd.read_hdf(H5PATH, key=f'chart/delisted_1d/{ticker}')\n",
    "    df.index = pd.to_datetime(df.index - 3600*5, unit=\"s\")\n",
    "    df_filtered = df.resample(\"1W-Mon\", label='left', closed='left').agg({\n",
    "        \"open\": \"first\",\n",
    "        \"high\": \"max\",\n",
    "        \"low\": \"min\",\n",
    "        \"close\": \"last\",\n",
    "        'volume': 'sum',\n",
    "        'vwap': 'mean',\n",
    "        'transactions': 'sum',\n",
    "    }).dropna(axis=0)\n",
    "    \n",
    "    with pd.HDFStore(H5PATH, mode='a', complevel=5, complib='zlib') as store:\n",
    "        store.put(f\"chart/delisted_1w/{ticker}\", df_filtered, format='table')\n",
    "        store.put(f\"chart/delisted_1d/{ticker}\", df, format='table')"
   ]
  },
  {
   "cell_type": "code",
   "execution_count": 3,
   "metadata": {},
   "outputs": [
    {
     "name": "stdout",
     "output_type": "stream",
     "text": [
      "delisted_1m deleted\n"
     ]
    }
   ],
   "source": [
    "# 특정 키 삭제\n",
    "with h5py.File(H5PATH, \"a\") as hdf:\n",
    "    for k in ['delisted_1d', 'delisted_1m', 'delisted_30m', 'delisted_5m']:\n",
    "        key_to_delete = 'chart/'+k+'/MURAV'  # 삭제할 키 이름\n",
    "\n",
    "        # 키가 존재하는지 확인 후 삭제\n",
    "        if key_to_delete in hdf:\n",
    "            print(k, 'deleted')\n",
    "            del hdf[key_to_delete]"
   ]
  }
 ],
 "metadata": {
  "kernelspec": {
   "display_name": "tch",
   "language": "python",
   "name": "python3"
  },
  "language_info": {
   "codemirror_mode": {
    "name": "ipython",
    "version": 3
   },
   "file_extension": ".py",
   "mimetype": "text/x-python",
   "name": "python",
   "nbconvert_exporter": "python",
   "pygments_lexer": "ipython3",
   "version": "3.12.7"
  }
 },
 "nbformat": 4,
 "nbformat_minor": 2
}
