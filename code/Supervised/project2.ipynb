{
 "cells": [
  {
   "cell_type": "code",
   "execution_count": 46,
   "metadata": {},
   "outputs": [],
   "source": [
    "# Library\n",
    "import sys, os\n",
    "sys.path.append(os.path.abspath('..'))\n",
    "\n",
    "from hdf5_loader import StockDatasetHDF5\n",
    "from myconfig import *\n",
    "import subclass as sc\n",
    "\n",
    "import pandas as pd\n",
    "import numpy as np\n",
    "import seaborn as sns\n",
    "from tqdm import tqdm\n",
    "import time\n",
    "import matplotlib.pyplot as plt\n",
    "from collections import defaultdict, OrderedDict\n",
    "from datetime import datetime, timedelta\n",
    "import os, shutil, wandb\n",
    "\n",
    "import torch\n",
    "import torch.nn as nn\n",
    "from torch.utils.data import IterableDataset, DataLoader\n",
    "import torch.nn.functional as F\n",
    "import torchsummary\n",
    "\n",
    "# np.set_printoptions(precision=4, suppress=True, linewidth=120)\n",
    "torch.set_printoptions(sci_mode=False, precision=4)"
   ]
  },
  {
   "cell_type": "code",
   "execution_count": 2,
   "metadata": {},
   "outputs": [],
   "source": [
    "def initialize_log_dir(base_log_dir=\"./tensorboard_logs\"):\n",
    "    if os.path.exists(base_log_dir):\n",
    "        shutil.rmtree(base_log_dir)  # 기존 로그 디렉토리 삭제\n",
    "    os.makedirs(base_log_dir, exist_ok=True)  # 새 디렉토리 생성\n",
    "    return os.path.join(base_log_dir, datetime.now().strftime(\"%Y%m%d-%H%M%S\"))"
   ]
  },
  {
   "cell_type": "markdown",
   "metadata": {},
   "source": [
    "### Model"
   ]
  },
  {
   "cell_type": "code",
   "execution_count": 87,
   "metadata": {},
   "outputs": [],
   "source": [
    "import model as m\n",
    "\n",
    "ticker_list=[\n",
    "    'AAPL',\n",
    "    'MSFT',\n",
    "    'GOOGL',\n",
    "    'META',\n",
    "    'IBM',\n",
    "    'INTC',\n",
    "]\n",
    "date_range=[ST, ED]\n",
    "hz_dim = {hz:128 for hz in THZ}\n",
    "targ_hz = '5m'\n",
    "label_weights = {hz:v for hz, v in zip(THZ, [0.1, 0.3, 0.5, 0.1, 0])}\n",
    "batch_size = 1"
   ]
  },
  {
   "cell_type": "code",
   "execution_count": 88,
   "metadata": {},
   "outputs": [],
   "source": [
    "import importlib\n",
    "_ = importlib.reload(m)\n",
    "_ = importlib.reload(sc)"
   ]
  },
  {
   "cell_type": "code",
   "execution_count": 89,
   "metadata": {},
   "outputs": [],
   "source": [
    "hdf5_inst = sc.StockDatasetHDF5(ticker_list, date_range)\n",
    "model = m.CustomCNN(hz_dim, THZ)\n",
    "criterion = sc.get_label\n",
    "optimizer = torch.optim.Adam(model.parameters(), lr=1e-4)\n",
    "device = 'cuda' if torch.cuda.is_available() else 'cpu'"
   ]
  },
  {
   "cell_type": "code",
   "execution_count": 90,
   "metadata": {},
   "outputs": [
    {
     "data": {
      "text/html": [
       "Tracking run with wandb version 0.19.5"
      ],
      "text/plain": [
       "<IPython.core.display.HTML object>"
      ]
     },
     "metadata": {},
     "output_type": "display_data"
    },
    {
     "data": {
      "text/html": [
       "Run data is saved locally in <code>c:\\Users\\naniri\\Documents\\GitHub\\FinanceProject\\code\\Supervised\\wandb\\run-20250201_143600-57h0hvfv</code>"
      ],
      "text/plain": [
       "<IPython.core.display.HTML object>"
      ]
     },
     "metadata": {},
     "output_type": "display_data"
    },
    {
     "data": {
      "text/html": [
       "Syncing run <strong><a href='https://wandb.ai/naniri-chung-ang-university/FinanceProject/runs/57h0hvfv' target=\"_blank\">test1</a></strong> to <a href='https://wandb.ai/naniri-chung-ang-university/FinanceProject' target=\"_blank\">Weights & Biases</a> (<a href='https://wandb.me/developer-guide' target=\"_blank\">docs</a>)<br>"
      ],
      "text/plain": [
       "<IPython.core.display.HTML object>"
      ]
     },
     "metadata": {},
     "output_type": "display_data"
    },
    {
     "data": {
      "text/html": [
       " View project at <a href='https://wandb.ai/naniri-chung-ang-university/FinanceProject' target=\"_blank\">https://wandb.ai/naniri-chung-ang-university/FinanceProject</a>"
      ],
      "text/plain": [
       "<IPython.core.display.HTML object>"
      ]
     },
     "metadata": {},
     "output_type": "display_data"
    },
    {
     "data": {
      "text/html": [
       " View run at <a href='https://wandb.ai/naniri-chung-ang-university/FinanceProject/runs/57h0hvfv' target=\"_blank\">https://wandb.ai/naniri-chung-ang-university/FinanceProject/runs/57h0hvfv</a>"
      ],
      "text/plain": [
       "<IPython.core.display.HTML object>"
      ]
     },
     "metadata": {},
     "output_type": "display_data"
    },
    {
     "ename": "KeyboardInterrupt",
     "evalue": "",
     "output_type": "error",
     "traceback": [
      "\u001b[1;31m---------------------------------------------------------------------------\u001b[0m",
      "\u001b[1;31mKeyboardInterrupt\u001b[0m                         Traceback (most recent call last)",
      "Cell \u001b[1;32mIn[90], line 34\u001b[0m\n\u001b[0;32m     31\u001b[0m output_saving \u001b[38;5;241m+\u001b[39m\u001b[38;5;241m=\u001b[39m output\u001b[38;5;241m.\u001b[39mitem()\n\u001b[0;32m     33\u001b[0m optimizer\u001b[38;5;241m.\u001b[39mzero_grad()\n\u001b[1;32m---> 34\u001b[0m output\u001b[38;5;241m.\u001b[39mbackward()\n\u001b[0;32m     35\u001b[0m optimizer\u001b[38;5;241m.\u001b[39mstep()\n\u001b[0;32m     37\u001b[0m \u001b[38;5;28;01mif\u001b[39;00m i \u001b[38;5;241m%\u001b[39m \u001b[38;5;241m100\u001b[39m \u001b[38;5;241m==\u001b[39m \u001b[38;5;241m99\u001b[39m:\n\u001b[0;32m     38\u001b[0m     \u001b[38;5;66;03m# wandb.log({\"batch\": i//128, \"train_loss\": output.detach().item(), 'label':torch.mean(label).detach().item(),\u001b[39;00m\n\u001b[0;32m     39\u001b[0m     \u001b[38;5;66;03m#            'value': torch.mean(value).detach().item()})\u001b[39;00m\n",
      "File \u001b[1;32mc:\\Users\\naniri\\anaconda3\\envs\\tch\\Lib\\site-packages\\torch\\_tensor.py:581\u001b[0m, in \u001b[0;36mTensor.backward\u001b[1;34m(self, gradient, retain_graph, create_graph, inputs)\u001b[0m\n\u001b[0;32m    571\u001b[0m \u001b[38;5;28;01mif\u001b[39;00m has_torch_function_unary(\u001b[38;5;28mself\u001b[39m):\n\u001b[0;32m    572\u001b[0m     \u001b[38;5;28;01mreturn\u001b[39;00m handle_torch_function(\n\u001b[0;32m    573\u001b[0m         Tensor\u001b[38;5;241m.\u001b[39mbackward,\n\u001b[0;32m    574\u001b[0m         (\u001b[38;5;28mself\u001b[39m,),\n\u001b[1;32m   (...)\u001b[0m\n\u001b[0;32m    579\u001b[0m         inputs\u001b[38;5;241m=\u001b[39minputs,\n\u001b[0;32m    580\u001b[0m     )\n\u001b[1;32m--> 581\u001b[0m torch\u001b[38;5;241m.\u001b[39mautograd\u001b[38;5;241m.\u001b[39mbackward(\n\u001b[0;32m    582\u001b[0m     \u001b[38;5;28mself\u001b[39m, gradient, retain_graph, create_graph, inputs\u001b[38;5;241m=\u001b[39minputs\n\u001b[0;32m    583\u001b[0m )\n",
      "File \u001b[1;32mc:\\Users\\naniri\\anaconda3\\envs\\tch\\Lib\\site-packages\\torch\\autograd\\__init__.py:347\u001b[0m, in \u001b[0;36mbackward\u001b[1;34m(tensors, grad_tensors, retain_graph, create_graph, grad_variables, inputs)\u001b[0m\n\u001b[0;32m    342\u001b[0m     retain_graph \u001b[38;5;241m=\u001b[39m create_graph\n\u001b[0;32m    344\u001b[0m \u001b[38;5;66;03m# The reason we repeat the same comment below is that\u001b[39;00m\n\u001b[0;32m    345\u001b[0m \u001b[38;5;66;03m# some Python versions print out the first line of a multi-line function\u001b[39;00m\n\u001b[0;32m    346\u001b[0m \u001b[38;5;66;03m# calls in the traceback and some print out the last line\u001b[39;00m\n\u001b[1;32m--> 347\u001b[0m _engine_run_backward(\n\u001b[0;32m    348\u001b[0m     tensors,\n\u001b[0;32m    349\u001b[0m     grad_tensors_,\n\u001b[0;32m    350\u001b[0m     retain_graph,\n\u001b[0;32m    351\u001b[0m     create_graph,\n\u001b[0;32m    352\u001b[0m     inputs,\n\u001b[0;32m    353\u001b[0m     allow_unreachable\u001b[38;5;241m=\u001b[39m\u001b[38;5;28;01mTrue\u001b[39;00m,\n\u001b[0;32m    354\u001b[0m     accumulate_grad\u001b[38;5;241m=\u001b[39m\u001b[38;5;28;01mTrue\u001b[39;00m,\n\u001b[0;32m    355\u001b[0m )\n",
      "File \u001b[1;32mc:\\Users\\naniri\\anaconda3\\envs\\tch\\Lib\\site-packages\\torch\\autograd\\graph.py:825\u001b[0m, in \u001b[0;36m_engine_run_backward\u001b[1;34m(t_outputs, *args, **kwargs)\u001b[0m\n\u001b[0;32m    823\u001b[0m     unregister_hooks \u001b[38;5;241m=\u001b[39m _register_logging_hooks_on_whole_graph(t_outputs)\n\u001b[0;32m    824\u001b[0m \u001b[38;5;28;01mtry\u001b[39;00m:\n\u001b[1;32m--> 825\u001b[0m     \u001b[38;5;28;01mreturn\u001b[39;00m Variable\u001b[38;5;241m.\u001b[39m_execution_engine\u001b[38;5;241m.\u001b[39mrun_backward(  \u001b[38;5;66;03m# Calls into the C++ engine to run the backward pass\u001b[39;00m\n\u001b[0;32m    826\u001b[0m         t_outputs, \u001b[38;5;241m*\u001b[39margs, \u001b[38;5;241m*\u001b[39m\u001b[38;5;241m*\u001b[39mkwargs\n\u001b[0;32m    827\u001b[0m     )  \u001b[38;5;66;03m# Calls into the C++ engine to run the backward pass\u001b[39;00m\n\u001b[0;32m    828\u001b[0m \u001b[38;5;28;01mfinally\u001b[39;00m:\n\u001b[0;32m    829\u001b[0m     \u001b[38;5;28;01mif\u001b[39;00m attach_logging_hooks:\n",
      "\u001b[1;31mKeyboardInterrupt\u001b[0m: "
     ]
    }
   ],
   "source": [
    "max_iter = 200000\n",
    "envgen = sc.get_samples(hdf5_inst, hz_dim, targ_hz, tensor=True)\n",
    "\n",
    "wandb.init(\n",
    "    project='FinanceProject',\n",
    "    name='test1',\n",
    ")\n",
    "\n",
    "output_saving = 0; v=0\n",
    "for i in range(max_iter):\n",
    "    samples = defaultdict(list); labels = defaultdict(list)\n",
    "    for j in range(batch_size):\n",
    "        sample, label = next(envgen)\n",
    "        if sample:\n",
    "            current_price = sample.pop('current_price')\n",
    "            for hz in THZ:\n",
    "                samples[hz].append(sample[hz])\n",
    "                labels[hz].append(label[hz])\n",
    "        else: continue\n",
    "        \n",
    "    for hz in THZ: \n",
    "        samples[hz] = torch.stack(samples[hz])\n",
    "        labels[hz] = torch.stack(labels[hz])\n",
    "        \n",
    "    label = criterion(labels, label_weights)\n",
    "        \n",
    "    model.train()\n",
    "    value = model(samples)\n",
    "    loss = nn.MSELoss()\n",
    "    output = loss(torch.flatten(value), label)\n",
    "    output_saving += output.item()\n",
    "\n",
    "    optimizer.zero_grad()\n",
    "    output.backward()\n",
    "    optimizer.step()\n",
    "    \n",
    "    if i % 100 == 99:\n",
    "        # wandb.log({\"batch\": i//128, \"train_loss\": output.detach().item(), 'label':torch.mean(label).detach().item(),\n",
    "        #            'value': torch.mean(value).detach().item()})\n",
    "        wandb.log({\"train_loss\": output_saving})\n",
    "        output_saving = 0\n",
    "        \n",
    "    if i % 10 == 9:\n",
    "        wandb.log({f'value{v}': torch.mean(value).detach().item(),\n",
    "                   f'label{v}': torch.abs(torch.mean(label)).detach().item()})\n",
    "        if i % 10000 == 9999: v += 1\n",
    "    \n",
    "wandb.finish()"
   ]
  },
  {
   "cell_type": "code",
   "execution_count": 91,
   "metadata": {},
   "outputs": [
    {
     "data": {
      "text/html": [],
      "text/plain": [
       "<IPython.core.display.HTML object>"
      ]
     },
     "metadata": {},
     "output_type": "display_data"
    },
    {
     "data": {
      "text/html": [
       "<br>    <style><br>        .wandb-row {<br>            display: flex;<br>            flex-direction: row;<br>            flex-wrap: wrap;<br>            justify-content: flex-start;<br>            width: 100%;<br>        }<br>        .wandb-col {<br>            display: flex;<br>            flex-direction: column;<br>            flex-basis: 100%;<br>            flex: 1;<br>            padding: 10px;<br>        }<br>    </style><br><div class=\"wandb-row\"><div class=\"wandb-col\"><h3>Run history:</h3><br/><table class=\"wandb\"><tr><td>label0</td><td>▄▂▄▁▂▇▃▁▁█▃▅▂▃▆▆▃▃▃▁▁█▁▂▅▂▂▁▆▃▂▂▂▂▄▂▂▂▂▂</td></tr><tr><td>label1</td><td>█▁▃▃▁▂▄▃▁▁▃▁▄▁▃▂▁▂▁▁▃▁▁▂▂▂▄▂▁▁▁▄▂▂▁▂▂▂▂▁</td></tr><tr><td>label2</td><td>▃█▅▆▆▂▂▃▃▂▆▄▁▁▂▆▄▁▁▃▁▃▁▁▂▂▇▂▄▃▂▂▂▁▂▁▂▂▂▁</td></tr><tr><td>train_loss</td><td>▁▂▁█▁▁▁▁▂▁▁▁▁▂▁▁▁▁▂▇▃▂▁▂▂▂▁▁▃▂▁▂▁▂▁▂▁▂▁▁</td></tr><tr><td>value0</td><td>▇▇▅▄▄▂▄▃▅▅█▅▆▅▅▅▆▁▄▁▅▅▅▂▅▄▄▅▃▄▅▄▄▄▄▄▄▃▃▄</td></tr><tr><td>value1</td><td>█▇▇▇▆▆▄▄▄▄▁▄▅▆▆▅▁▅▅▆▇▆▅▆▄█▆▆▇▆▄▆▅▅▅▄▃▃▅▄</td></tr><tr><td>value2</td><td>▅▅▆▅▆▆▅▅▅▅▆█▆▆▆▇▇▆▆▆▆█▆▅▆▅▃▂▁▁▂▄▅▅▆█▆▅▄▅</td></tr></table><br/></div><div class=\"wandb-col\"><h3>Run summary:</h3><br/><table class=\"wandb\"><tr><td>label0</td><td>0.1138</td></tr><tr><td>label1</td><td>0.06296</td></tr><tr><td>label2</td><td>0.17252</td></tr><tr><td>train_loss</td><td>3.00642</td></tr><tr><td>value0</td><td>-0.14845</td></tr><tr><td>value1</td><td>-0.10354</td></tr><tr><td>value2</td><td>-0.03474</td></tr></table><br/></div></div>"
      ],
      "text/plain": [
       "<IPython.core.display.HTML object>"
      ]
     },
     "metadata": {},
     "output_type": "display_data"
    },
    {
     "data": {
      "text/html": [
       " View run <strong style=\"color:#cdcd00\">test1</strong> at: <a href='https://wandb.ai/naniri-chung-ang-university/FinanceProject/runs/57h0hvfv' target=\"_blank\">https://wandb.ai/naniri-chung-ang-university/FinanceProject/runs/57h0hvfv</a><br> View project at: <a href='https://wandb.ai/naniri-chung-ang-university/FinanceProject' target=\"_blank\">https://wandb.ai/naniri-chung-ang-university/FinanceProject</a><br>Synced 5 W&B file(s), 0 media file(s), 0 artifact file(s) and 0 other file(s)"
      ],
      "text/plain": [
       "<IPython.core.display.HTML object>"
      ]
     },
     "metadata": {},
     "output_type": "display_data"
    },
    {
     "data": {
      "text/html": [
       "Find logs at: <code>.\\wandb\\run-20250201_143600-57h0hvfv\\logs</code>"
      ],
      "text/plain": [
       "<IPython.core.display.HTML object>"
      ]
     },
     "metadata": {},
     "output_type": "display_data"
    }
   ],
   "source": [
    "wandb.finish()"
   ]
  },
  {
   "cell_type": "code",
   "execution_count": 80,
   "metadata": {},
   "outputs": [
    {
     "data": {
      "text/plain": [
       "torch.Size([8, 5])"
      ]
     },
     "execution_count": 80,
     "metadata": {},
     "output_type": "execute_result"
    }
   ],
   "source": [
    "samples['1m'].shape"
   ]
  }
 ],
 "metadata": {
  "kernelspec": {
   "display_name": "tch",
   "language": "python",
   "name": "python3"
  },
  "language_info": {
   "codemirror_mode": {
    "name": "ipython",
    "version": 3
   },
   "file_extension": ".py",
   "mimetype": "text/x-python",
   "name": "python",
   "nbconvert_exporter": "python",
   "pygments_lexer": "ipython3",
   "version": "3.12.7"
  }
 },
 "nbformat": 4,
 "nbformat_minor": 2
}
