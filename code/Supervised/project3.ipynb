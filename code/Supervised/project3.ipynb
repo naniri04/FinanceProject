{
 "cells": [
  {
   "cell_type": "code",
   "execution_count": 4,
   "metadata": {},
   "outputs": [],
   "source": [
    "# Library\n",
    "import sys, os\n",
    "sys.path.append(os.path.abspath('..'))\n",
    "\n",
    "from hdf5_loader import StockDatasetHDF5\n",
    "from myconfig import *\n",
    "import subclass as sc\n",
    "\n",
    "import pandas as pd\n",
    "import numpy as np\n",
    "import seaborn as sns\n",
    "from tqdm import tqdm\n",
    "import time\n",
    "import matplotlib.pyplot as plt\n",
    "from collections import defaultdict, OrderedDict\n",
    "from datetime import datetime, timedelta\n",
    "import os, shutil, wandb\n",
    "from itertools import permutations\n",
    "\n",
    "import torch\n",
    "import torch.nn as nn\n",
    "from torch.utils.data import IterableDataset, DataLoader\n",
    "import torch.nn.functional as F\n",
    "import torchsummary\n",
    "\n",
    "# np.set_printoptions(precision=4, suppress=True, linewidth=120)\n",
    "torch.set_printoptions(sci_mode=False, precision=4)\n",
    "# _ = plt.tight_layout()"
   ]
  },
  {
   "cell_type": "markdown",
   "metadata": {},
   "source": [
    "### Model"
   ]
  },
  {
   "cell_type": "markdown",
   "metadata": {},
   "source": [
    "#### Preparing"
   ]
  },
  {
   "cell_type": "code",
   "execution_count": 5,
   "metadata": {},
   "outputs": [],
   "source": [
    "import models.encdec as encdec\n",
    "import models.mybuffer as buf\n",
    "\n",
    "ticker_list=[\n",
    "    'AAPL',\n",
    "    'MSFT',\n",
    "    'GOOGL',\n",
    "    'META',\n",
    "    'IBM',\n",
    "    'INTC',\n",
    "]\n",
    "date_range=[ST, ED]\n",
    "hz_dim = {hz:128 for hz in THZ}\n",
    "targ_hz = '5m'\n",
    "label_weight = {hz:v for hz, v in zip(THZ, [0.1, 0.3, 0.5, 0.1, 0])}\n",
    "batch_size = 3"
   ]
  },
  {
   "cell_type": "code",
   "execution_count": 6,
   "metadata": {},
   "outputs": [],
   "source": [
    "import importlib\n",
    "_ = importlib.reload(encdec)\n",
    "_ = importlib.reload(sc)\n",
    "_ = importlib.reload(buf)"
   ]
  },
  {
   "cell_type": "code",
   "execution_count": 7,
   "metadata": {},
   "outputs": [],
   "source": [
    "hdf5_inst = sc.StockDatasetHDF5(ticker_list, date_range)\n",
    "envgen = sc.get_samples(hdf5_inst, hz_dim, targ_hz, tensor=True)"
   ]
  },
  {
   "cell_type": "markdown",
   "metadata": {},
   "source": [
    "#### Modeling"
   ]
  },
  {
   "cell_type": "code",
   "execution_count": 8,
   "metadata": {},
   "outputs": [],
   "source": [
    "buffer = buf.mybuffer(1000, batch_size)"
   ]
  },
  {
   "cell_type": "code",
   "execution_count": 9,
   "metadata": {},
   "outputs": [],
   "source": [
    "def kl_divergence_multivariate(x, y):\n",
    "    x_mu, x_sigma = x[0], x[1]  # shape: (batch_size, latent_dim)\n",
    "    y_mu, y_sigma = y[0], y[1]\n",
    "\n",
    "    # 배치 간 브로드캐스팅을 위해 차원 추가\n",
    "    # x: (batch_size, 1, latent_dim), y: (1, batch_size, latent_dim)\n",
    "    x_mu = x_mu.unsqueeze(1)\n",
    "    x_sigma = x_sigma.unsqueeze(1)\n",
    "    y_mu = y_mu.unsqueeze(0)\n",
    "    y_sigma = y_sigma.unsqueeze(0)\n",
    "\n",
    "    # KL divergence를 latent dimension에 대해 계산\n",
    "    kl = torch.log(y_sigma / x_sigma) \\\n",
    "        + (x_sigma ** 2 + (x_mu - y_mu) ** 2) / (2 * y_sigma ** 2) \\\n",
    "        - 0.5\n",
    "\n",
    "    # latent dimension에 대해 합산하여 최종 (batch_size, batch_size) 행렬을 얻음\n",
    "    kl_divergence = kl.sum(dim=2)\n",
    "    return kl_divergence\n",
    "\n",
    "def hellinger_distance(x, y):\n",
    "    \"\"\"\n",
    "    x: (batch_x, 2, outdim)  # [mu, sigma]\n",
    "    y: (batch_y, 2, outdim)  # [mu, sigma]\n",
    "    \n",
    "    Returns:\n",
    "        H: (batch_x, batch_y) Hellinger distance matrix\n",
    "    \"\"\"\n",
    "    mu_x, sigma_x = x[:, 0, :], x[:, 1, :]\n",
    "    mu_y, sigma_y = y[:, 0, :], y[:, 1, :]\n",
    "\n",
    "    # Broadcasting을 위해 차원 확장\n",
    "    mu_x = mu_x.unsqueeze(1)  # (batch_x, 1, outdim)\n",
    "    sigma_x = sigma_x.unsqueeze(1)\n",
    "\n",
    "    mu_y = mu_y.unsqueeze(0)  # (1, batch_y, outdim)\n",
    "    sigma_y = sigma_y.unsqueeze(0)\n",
    "\n",
    "    # Hellinger distance 계산\n",
    "    term1 = torch.sqrt(2 * sigma_x * sigma_y) / torch.sqrt(sigma_x**2 + sigma_y**2)\n",
    "    term2 = torch.exp(-((mu_x - mu_y) ** 2) / (4 * (sigma_x**2 + sigma_y**2)))\n",
    "\n",
    "    H = torch.sqrt(1 - term1 * term2).mean(dim=-1)  # (batch_x, batch_y)\n",
    "\n",
    "    return H"
   ]
  },
  {
   "cell_type": "code",
   "execution_count": null,
   "metadata": {},
   "outputs": [],
   "source": [
    "similarity_hz_weight = [0.1, 0.3, 0.5, 0.1, 0.0]\n",
    "\n",
    "def ts_similarity(ts1, ts2):\n",
    "    return np.corrcoef(ts1, ts2)[0, 1]\n",
    "\n",
    "def chart_similarity(data:torch.Tensor):\n",
    "    dnum = len(data)\n",
    "    sim_list = np.ones((dnum, dnum, 5))\n",
    "    for r, c in permutations(range(dnum), 2):\n",
    "        for i in range(5):\n",
    "            sim_list[r,c,i] = ts_similarity(data[r,i], data[c,i])\n",
    "    \n",
    "    return np.einsum(\"ijk,k->ij\", sim_list, similarity_hz_weight)"
   ]
  },
  {
   "cell_type": "code",
   "execution_count": 11,
   "metadata": {},
   "outputs": [],
   "source": [
    "model = encdec.CustomCNN(hz_dim, THZ, 2)"
   ]
  },
  {
   "cell_type": "markdown",
   "metadata": {},
   "source": [
    "* Batch data Dimension: $(batch, 5(hz), feature, seqlen)$\n",
    "* Normal distribution Dimension: $(batch, 2(\\mu|\\sigma), outdim)$"
   ]
  },
  {
   "cell_type": "code",
   "execution_count": null,
   "metadata": {},
   "outputs": [
    {
     "name": "stderr",
     "output_type": "stream",
     "text": [
      "100%|██████████| 100/100 [00:06<00:00, 15.38it/s]\n"
     ]
    }
   ],
   "source": [
    "buffer.clear()\n",
    "# Start\n",
    "for i in tqdm(range(100)):\n",
    "    rel_charts, features, labels, infos = sc.batch_maker(envgen, batch_size)\n",
    "    q = model(rel_charts)\n",
    "\n",
    "    q_buf, x_buf = buffer.get(4)\n",
    "\n",
    "    buffer.put(q.detach(), rel_charts.detach())"
   ]
  },
  {
   "cell_type": "code",
   "execution_count": 16,
   "metadata": {},
   "outputs": [],
   "source": [
    "qs, xs = buffer.get(4)"
   ]
  },
  {
   "cell_type": "code",
   "execution_count": 19,
   "metadata": {},
   "outputs": [
    {
     "data": {
      "text/plain": [
       "tensor([[0.0062, 0.0062, 0.0062, 0.0043],\n",
       "        [0.0060, 0.0060, 0.0060, 0.0042],\n",
       "        [0.0076, 0.0076, 0.0076, 0.0056]], grad_fn=<MeanBackward1>)"
      ]
     },
     "execution_count": 19,
     "metadata": {},
     "output_type": "execute_result"
    }
   ],
   "source": [
    "hellinger_distance(q, qs)"
   ]
  },
  {
   "cell_type": "code",
   "execution_count": 17,
   "metadata": {},
   "outputs": [
    {
     "data": {
      "text/plain": [
       "array([[ 1.        ,  0.98745249,  0.97575433, -0.67505496],\n",
       "       [ 0.98745249,  1.        ,  0.98552752, -0.67995366],\n",
       "       [ 0.97575433,  0.98552752,  1.        , -0.68242266],\n",
       "       [-0.67505496, -0.67995366, -0.68242266,  1.        ]])"
      ]
     },
     "execution_count": 17,
     "metadata": {},
     "output_type": "execute_result"
    }
   ],
   "source": [
    "chart_similarity(xs[:,:,3])"
   ]
  },
  {
   "cell_type": "code",
   "execution_count": null,
   "metadata": {},
   "outputs": [],
   "source": []
  },
  {
   "cell_type": "code",
   "execution_count": null,
   "metadata": {},
   "outputs": [],
   "source": []
  },
  {
   "cell_type": "code",
   "execution_count": null,
   "metadata": {},
   "outputs": [],
   "source": []
  },
  {
   "cell_type": "code",
   "execution_count": null,
   "metadata": {},
   "outputs": [],
   "source": []
  },
  {
   "cell_type": "code",
   "execution_count": null,
   "metadata": {},
   "outputs": [],
   "source": []
  },
  {
   "cell_type": "code",
   "execution_count": null,
   "metadata": {},
   "outputs": [],
   "source": []
  },
  {
   "cell_type": "code",
   "execution_count": null,
   "metadata": {},
   "outputs": [],
   "source": []
  },
  {
   "cell_type": "code",
   "execution_count": null,
   "metadata": {},
   "outputs": [],
   "source": []
  }
 ],
 "metadata": {
  "kernelspec": {
   "display_name": "tch",
   "language": "python",
   "name": "python3"
  },
  "language_info": {
   "codemirror_mode": {
    "name": "ipython",
    "version": 3
   },
   "file_extension": ".py",
   "mimetype": "text/x-python",
   "name": "python",
   "nbconvert_exporter": "python",
   "pygments_lexer": "ipython3",
   "version": "3.12.7"
  }
 },
 "nbformat": 4,
 "nbformat_minor": 2
}
