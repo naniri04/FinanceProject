{
 "cells": [
  {
   "cell_type": "code",
   "execution_count": 1,
   "metadata": {},
   "outputs": [],
   "source": [
    "# Library\n",
    "import sys, os\n",
    "sys.path.append(os.path.abspath('..'))\n",
    "\n",
    "from hdf5_loader import StockDatasetHDF5\n",
    "from myconfig import *\n",
    "import subclass as sc\n",
    "\n",
    "import pandas as pd\n",
    "import numpy as np\n",
    "import seaborn as sns\n",
    "from tqdm import tqdm\n",
    "import time\n",
    "import matplotlib.pyplot as plt\n",
    "from collections import defaultdict, OrderedDict\n",
    "from datetime import datetime, timedelta\n",
    "import os, shutil, wandb\n",
    "from itertools import permutations\n",
    "\n",
    "import torch\n",
    "import torch.nn as nn\n",
    "from torch.utils.data import IterableDataset, DataLoader\n",
    "import torch.nn.functional as F\n",
    "import torchsummary\n",
    "\n",
    "# np.set_printoptions(precision=4, suppress=True, linewidth=120)\n",
    "torch.set_printoptions(sci_mode=False, precision=4)\n",
    "# _ = plt.tight_layout()"
   ]
  },
  {
   "cell_type": "code",
   "execution_count": 2,
   "metadata": {},
   "outputs": [],
   "source": [
    "import models.encdec as encdec\n",
    "import models.mybuffer as buf\n",
    "\n",
    "ticker_list=[\n",
    "    'AAPL',\n",
    "    'MSFT',\n",
    "    'GOOGL',\n",
    "    'META',\n",
    "    'IBM',\n",
    "    'INTC',\n",
    "]\n",
    "date_range=[ST, ED]\n",
    "hz_dim = {hz:128 for hz in THZ}\n",
    "targ_hz = '5m'\n",
    "label_weight = {hz:v for hz, v in zip(THZ, [0.1, 0.3, 0.5, 0.1, 0])}\n",
    "batch_size = 3"
   ]
  },
  {
   "cell_type": "code",
   "execution_count": 3,
   "metadata": {},
   "outputs": [],
   "source": [
    "import importlib\n",
    "_ = importlib.reload(encdec)\n",
    "_ = importlib.reload(sc)\n",
    "_ = importlib.reload(buf)"
   ]
  },
  {
   "cell_type": "code",
   "execution_count": 67,
   "metadata": {},
   "outputs": [],
   "source": [
    "hdf5_inst = sc.StockDatasetHDF5(ticker_list, date_range)\n",
    "envgen = sc.get_samples(hdf5_inst, hz_dim, targ_hz, tensor=True)"
   ]
  },
  {
   "cell_type": "code",
   "execution_count": 68,
   "metadata": {},
   "outputs": [],
   "source": [
    "d = hdf5_inst[0]"
   ]
  },
  {
   "cell_type": "code",
   "execution_count": 69,
   "metadata": {},
   "outputs": [
    {
     "name": "stdout",
     "output_type": "stream",
     "text": [
      "<class 'pandas.core.frame.DataFrame'>\n",
      "DatetimeIndex: 973474 entries, 2015-01-02 09:30:00 to 2024-12-13 15:59:00\n",
      "Data columns (total 7 columns):\n",
      " #   Column        Non-Null Count   Dtype  \n",
      "---  ------        --------------   -----  \n",
      " 0   open          973474 non-null  float32\n",
      " 1   high          973474 non-null  float32\n",
      " 2   low           973474 non-null  float32\n",
      " 3   close         973474 non-null  float32\n",
      " 4   volume        973474 non-null  float32\n",
      " 5   vwap          973474 non-null  float32\n",
      " 6   transactions  973474 non-null  float32\n",
      "dtypes: float32(7)\n",
      "memory usage: 33.4 MB\n"
     ]
    }
   ],
   "source": [
    "d['1m'].info()"
   ]
  },
  {
   "cell_type": "code",
   "execution_count": 70,
   "metadata": {},
   "outputs": [],
   "source": [
    "npdf = dict()\n",
    "for hz in THZ:\n",
    "    df = d[hz]\n",
    "    df['timestamp'] = df.index.astype('int64') // 10**9    \n",
    "\n",
    "    padding = np.zeros(shape=(hz_dim[hz], df.shape[1]))\n",
    "    npdf[hz] = np.concatenate([padding, df.to_numpy()], axis=0)"
   ]
  },
  {
   "cell_type": "code",
   "execution_count": 49,
   "metadata": {},
   "outputs": [
    {
     "data": {
      "text/plain": [
       "DatetimeIndex(['2015-01-02 09:30:00', '2015-01-02 09:35:00',\n",
       "               '2015-01-02 09:40:00', '2015-01-02 09:45:00',\n",
       "               '2015-01-02 09:50:00'],\n",
       "              dtype='datetime64[ns]', name='timestamp', freq=None)"
      ]
     },
     "execution_count": 49,
     "metadata": {},
     "output_type": "execute_result"
    }
   ],
   "source": [
    "d['5m'][:5].index"
   ]
  },
  {
   "cell_type": "code",
   "execution_count": 64,
   "metadata": {},
   "outputs": [],
   "source": [
    "# make sample\n",
    "il = {hz:[0] for hz in THZ+['T']}\n",
    "flag = False\n",
    "for i in range(hz_dim[targ_hz], len(npdf[targ_hz])):\n",
    "    targ_time = npdf[targ_hz][i, 7]\n",
    "    il['T'].append(targ_time)\n",
    "    # indexing\n",
    "    for hz in THZ:\n",
    "        dt = 0\n",
    "        while True:\n",
    "            if npdf[hz][(v := il[hz][-1] + dt), 7] + UNIT_TS[hz] > targ_time:\n",
    "                il[hz].append(v)\n",
    "                break\n",
    "            else: dt += 1\n",
    "    i += 1\n",
    "minlen = min([len(il[hz]) for hz in THZ])\n",
    "for hz in THZ+['T']:\n",
    "    il[hz] = np.array(il[hz])[1:minlen]"
   ]
  },
  {
   "cell_type": "code",
   "execution_count": 48,
   "metadata": {},
   "outputs": [
    {
     "data": {
      "text/plain": [
       "array([0.000000e+00, 0.000000e+00, 1.420191e+09])"
      ]
     },
     "execution_count": 48,
     "metadata": {},
     "output_type": "execute_result"
    }
   ],
   "source": [
    "npdf['1m'][126:129,7]"
   ]
  },
  {
   "cell_type": "code",
   "execution_count": 9,
   "metadata": {},
   "outputs": [],
   "source": [
    "def extract_windows(data, index_list, window_size=128):\n",
    "    offsets = np.arange(window_size)\n",
    "    indices = index_list[:, None] - window_size + offsets\n",
    "    return data[indices, :]\n",
    "\n",
    "res = dict()\n",
    "rand_i = np.random.randint(max(hz_dim.values()), len(il[targ_hz]), size=batch_size)\n",
    "for hz in THZ:\n",
    "    res[hz] = extract_windows(npdf[hz], il[hz][rand_i])"
   ]
  },
  {
   "cell_type": "code",
   "execution_count": null,
   "metadata": {},
   "outputs": [],
   "source": []
  },
  {
   "cell_type": "code",
   "execution_count": 10,
   "metadata": {},
   "outputs": [
    {
     "name": "stdout",
     "output_type": "stream",
     "text": [
      "(3, 128, 8)\n",
      "(3, 128, 8)\n",
      "(3, 128, 8)\n",
      "(3, 128, 8)\n",
      "(3, 128, 8)\n"
     ]
    }
   ],
   "source": [
    "for hz in THZ:\n",
    "    print(res[hz].shape)"
   ]
  },
  {
   "cell_type": "code",
   "execution_count": 11,
   "metadata": {},
   "outputs": [
    {
     "name": "stdout",
     "output_type": "stream",
     "text": [
      "[231408 648822 245148]\n",
      "[ 46384 129870  49132]\n",
      "[ 7837 21753  8295]\n",
      "[ 722 1797  758]\n",
      "[251 474 259]\n"
     ]
    }
   ],
   "source": [
    "for hz in THZ:\n",
    "    print(il[hz][rand_i])"
   ]
  },
  {
   "cell_type": "code",
   "execution_count": 12,
   "metadata": {},
   "outputs": [
    {
     "data": {
      "text/plain": [
       "(3, 128, 8)"
      ]
     },
     "execution_count": 12,
     "metadata": {},
     "output_type": "execute_result"
    }
   ],
   "source": [
    "res['1m'].shape"
   ]
  }
 ],
 "metadata": {
  "kernelspec": {
   "display_name": "tch",
   "language": "python",
   "name": "python3"
  },
  "language_info": {
   "codemirror_mode": {
    "name": "ipython",
    "version": 3
   },
   "file_extension": ".py",
   "mimetype": "text/x-python",
   "name": "python",
   "nbconvert_exporter": "python",
   "pygments_lexer": "ipython3",
   "version": "3.12.7"
  }
 },
 "nbformat": 4,
 "nbformat_minor": 2
}
