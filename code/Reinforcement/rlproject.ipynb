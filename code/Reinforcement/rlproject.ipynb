{
 "cells": [
  {
   "cell_type": "code",
   "execution_count": 2,
   "metadata": {},
   "outputs": [],
   "source": [
    "# Library\n",
    "import sys, os\n",
    "sys.path.append(os.path.abspath('..'))\n",
    "\n",
    "from hdf5_loader import StockDatasetHDF5\n",
    "from config import *\n",
    "\n",
    "import pandas as pd\n",
    "import numpy as np\n",
    "import seaborn as sns\n",
    "from tqdm import tqdm\n",
    "import time\n",
    "import matplotlib.pyplot as plt\n",
    "from collections import defaultdict\n",
    "from datetime import datetime, timedelta\n",
    "import os\n",
    "import gc\n",
    "import re\n",
    "import h5py\n",
    "import random\n",
    "import importlib\n",
    "import shutil\n",
    "\n",
    "import torch\n",
    "import torch.nn as nn\n",
    "from torch.utils.data import IterableDataset, DataLoader"
   ]
  },
  {
   "cell_type": "code",
   "execution_count": 3,
   "metadata": {},
   "outputs": [],
   "source": [
    "import gymnasium as gym\n",
    "from gymnasium import spaces"
   ]
  },
  {
   "cell_type": "code",
   "execution_count": 222,
   "metadata": {},
   "outputs": [],
   "source": [
    "hdf5_train = StockDatasetHDF5(\n",
    "    ticker_list=[\n",
    "    'AAPL',  # Apple Inc.\n",
    "    'MSFT',  # Microsoft Corporation\n",
    "],\n",
    "    date_range=[ST, ED-timedelta(52)]\n",
    ")"
   ]
  },
  {
   "cell_type": "code",
   "execution_count": 223,
   "metadata": {},
   "outputs": [],
   "source": [
    "UNIT_TS = {\n",
    "    '1m': 60,\n",
    "    '5m': 60*5,\n",
    "    '30m': 60*30,\n",
    "    '1d': 60*60*24,\n",
    "    '1w': 60*60*24*7\n",
    "}"
   ]
  },
  {
   "cell_type": "code",
   "execution_count": 224,
   "metadata": {},
   "outputs": [],
   "source": [
    "hz_dim = {hz:6 for hz in THZ}\n",
    "targ_hz = '5m'\n",
    "\n",
    "temp = dict()\n",
    "for hz in THZ:\n",
    "    df = hdf5_train[0][hz]\n",
    "    df['timestamp'] = df.index.astype('int64') // 10**9\n",
    "    # add global feature\n",
    "    \n",
    "     \n",
    "    temp[hz] = df.to_numpy()"
   ]
  },
  {
   "cell_type": "code",
   "execution_count": 225,
   "metadata": {},
   "outputs": [],
   "source": [
    "# make sample\n",
    "curidx = {hz:0 for hz in THZ}\n",
    "for i in [6330]:\n",
    "    targ_time = temp[targ_hz][i, 7]\n",
    "    # indexing\n",
    "    for hz in THZ:\n",
    "        while True:\n",
    "            if temp[hz][curidx[hz], 7] + UNIT_TS[hz] > targ_time + UNIT_TS[targ_hz]: break\n",
    "            else: curidx[hz] += 1\n",
    "    \n",
    "    # split\n",
    "    result = dict()\n",
    "    for hz in THZ:\n",
    "        if (diff := curidx[hz] - hz_dim[hz]) >= 0:\n",
    "            result[hz] = temp[hz][diff:curidx[hz]]\n",
    "        else:\n",
    "            result[hz] = np.pad(temp[hz][:curidx[hz]], pad_width=((-diff, 0),(0,0)), mode='constant', constant_values=0)\n",
    "    \n",
    "    # add local feature\n",
    "    \n",
    "    # print(result)\n",
    "    "
   ]
  },
  {
   "cell_type": "code",
   "execution_count": 227,
   "metadata": {},
   "outputs": [
    {
     "name": "stdout",
     "output_type": "stream",
     "text": [
      "(6, 8)\n",
      "2015-04-30 09:29:00\n",
      "2015-04-30 09:30:00\n",
      "2015-04-30 09:31:00\n",
      "2015-04-30 09:32:00\n",
      "2015-04-30 09:33:00\n",
      "2015-04-30 09:34:00\n",
      "(6, 8)\n",
      "2015-04-30 09:05:00\n",
      "2015-04-30 09:10:00\n",
      "2015-04-30 09:15:00\n",
      "2015-04-30 09:20:00\n",
      "2015-04-30 09:25:00\n",
      "2015-04-30 09:30:00\n",
      "(6, 8)\n",
      "2015-04-29 13:00:00\n",
      "2015-04-29 13:30:00\n",
      "2015-04-29 14:00:00\n",
      "2015-04-29 14:30:00\n",
      "2015-04-30 08:30:00\n",
      "2015-04-30 09:00:00\n",
      "(6, 8)\n",
      "2015-04-22 00:00:00\n",
      "2015-04-23 00:00:00\n",
      "2015-04-24 00:00:00\n",
      "2015-04-27 00:00:00\n",
      "2015-04-28 00:00:00\n",
      "2015-04-29 00:00:00\n",
      "(6, 8)\n",
      "2015-03-16 00:00:00\n",
      "2015-03-23 00:00:00\n",
      "2015-03-30 00:00:00\n",
      "2015-04-06 00:00:00\n",
      "2015-04-13 00:00:00\n",
      "2015-04-20 00:00:00\n"
     ]
    }
   ],
   "source": [
    "for hz in THZ:\n",
    "    print(result[hz].shape)\n",
    "    for ts in result[hz][:,7]:\n",
    "        print(datetime.fromtimestamp(ts-60*60*9))"
   ]
  },
  {
   "cell_type": "code",
   "execution_count": null,
   "metadata": {},
   "outputs": [],
   "source": []
  },
  {
   "cell_type": "code",
   "execution_count": null,
   "metadata": {},
   "outputs": [],
   "source": []
  },
  {
   "cell_type": "code",
   "execution_count": null,
   "metadata": {},
   "outputs": [],
   "source": []
  },
  {
   "cell_type": "code",
   "execution_count": null,
   "metadata": {},
   "outputs": [],
   "source": []
  },
  {
   "cell_type": "code",
   "execution_count": null,
   "metadata": {},
   "outputs": [],
   "source": []
  },
  {
   "cell_type": "code",
   "execution_count": null,
   "metadata": {},
   "outputs": [],
   "source": []
  },
  {
   "cell_type": "code",
   "execution_count": null,
   "metadata": {},
   "outputs": [],
   "source": []
  },
  {
   "cell_type": "code",
   "execution_count": null,
   "metadata": {},
   "outputs": [],
   "source": []
  },
  {
   "cell_type": "code",
   "execution_count": null,
   "metadata": {},
   "outputs": [],
   "source": []
  },
  {
   "cell_type": "markdown",
   "metadata": {},
   "source": [
    "---"
   ]
  },
  {
   "cell_type": "code",
   "execution_count": null,
   "metadata": {},
   "outputs": [],
   "source": [
    "class StockTradingEnv(gym.Env):\n",
    "    def __init__(self, render_mode=None):\n",
    "        # self.\n",
    "        \n",
    "        self.observation_space = None\n",
    "        self.action_space = spaces.Discrete(2)\n",
    "\n",
    "        assert render_mode is None or render_mode in self.metadata[\"render_modes\"]\n",
    "        self.render_mode = render_mode\n",
    "        \n",
    "    def _get_obs(self):  # return s_t\n",
    "        return {\"agent\": self._agent_location, \"target\": self._target_location}\n",
    "\n",
    "    def _get_info(self):  # return aux. infos\n",
    "        return {\n",
    "            \"distance\": np.linalg.norm(\n",
    "                self._agent_location - self._target_location, ord=1\n",
    "            )\n",
    "        }\n",
    "        \n",
    "    def reset(self):\n",
    "        pass\n",
    "    \n",
    "    def step(self):\n",
    "        pass\n",
    "    \n",
    "    def render(self):\n",
    "        pass\n",
    "    \n",
    "    def close(self):\n",
    "        pass"
   ]
  }
 ],
 "metadata": {
  "kernelspec": {
   "display_name": "tch",
   "language": "python",
   "name": "python3"
  },
  "language_info": {
   "codemirror_mode": {
    "name": "ipython",
    "version": 3
   },
   "file_extension": ".py",
   "mimetype": "text/x-python",
   "name": "python",
   "nbconvert_exporter": "python",
   "pygments_lexer": "ipython3",
   "version": "3.12.7"
  }
 },
 "nbformat": 4,
 "nbformat_minor": 2
}
